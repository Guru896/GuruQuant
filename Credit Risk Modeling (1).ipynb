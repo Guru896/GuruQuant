{
 "cells": [
  {
   "cell_type": "code",
   "execution_count": 1,
   "id": "6839a238-5548-45fb-baa6-4a935de5f5f8",
   "metadata": {},
   "outputs": [
    {
     "name": "stdout",
     "output_type": "stream",
     "text": [
      "       LoanID  Age  Income  LoanAmount  CreditScore  MonthsEmployed  \\\n",
      "0  I38PQUQS96   56   85994       50587          520              80   \n",
      "1  HPSK72WA7R   69   50432      124440          458              15   \n",
      "2  C1OZ6DPJ8Y   46   84208      129188          451              26   \n",
      "3  V2KKSFM3UN   32   31713       44799          743               0   \n",
      "4  EY08JDHTZP   60   20437        9139          633               8   \n",
      "\n",
      "   NumCreditLines  InterestRate  LoanTerm  DTIRatio    Education  \\\n",
      "0               4         15.23        36      0.44   Bachelor's   \n",
      "1               1          4.81        60      0.68     Master's   \n",
      "2               3         21.17        24      0.31     Master's   \n",
      "3               3          7.07        24      0.23  High School   \n",
      "4               4          6.51        48      0.73   Bachelor's   \n",
      "\n",
      "  EmploymentType MaritalStatus HasMortgage HasDependents LoanPurpose  \\\n",
      "0      Full-time      Divorced         Yes           Yes       Other   \n",
      "1      Full-time       Married          No            No       Other   \n",
      "2     Unemployed      Divorced         Yes           Yes        Auto   \n",
      "3      Full-time       Married          No            No    Business   \n",
      "4     Unemployed      Divorced          No           Yes        Auto   \n",
      "\n",
      "  HasCoSigner  Default  \n",
      "0         Yes        0  \n",
      "1         Yes        0  \n",
      "2          No        1  \n",
      "3          No        0  \n",
      "4          No        0  \n",
      "<class 'pandas.core.frame.DataFrame'>\n",
      "RangeIndex: 255347 entries, 0 to 255346\n",
      "Data columns (total 18 columns):\n",
      " #   Column          Non-Null Count   Dtype  \n",
      "---  ------          --------------   -----  \n",
      " 0   LoanID          255347 non-null  object \n",
      " 1   Age             255347 non-null  int64  \n",
      " 2   Income          255347 non-null  int64  \n",
      " 3   LoanAmount      255347 non-null  int64  \n",
      " 4   CreditScore     255347 non-null  int64  \n",
      " 5   MonthsEmployed  255347 non-null  int64  \n",
      " 6   NumCreditLines  255347 non-null  int64  \n",
      " 7   InterestRate    255347 non-null  float64\n",
      " 8   LoanTerm        255347 non-null  int64  \n",
      " 9   DTIRatio        255347 non-null  float64\n",
      " 10  Education       255347 non-null  object \n",
      " 11  EmploymentType  255347 non-null  object \n",
      " 12  MaritalStatus   255347 non-null  object \n",
      " 13  HasMortgage     255347 non-null  object \n",
      " 14  HasDependents   255347 non-null  object \n",
      " 15  LoanPurpose     255347 non-null  object \n",
      " 16  HasCoSigner     255347 non-null  object \n",
      " 17  Default         255347 non-null  int64  \n",
      "dtypes: float64(2), int64(8), object(8)\n",
      "memory usage: 35.1+ MB\n",
      "None\n",
      "                 Age         Income     LoanAmount    CreditScore  \\\n",
      "count  255347.000000  255347.000000  255347.000000  255347.000000   \n",
      "mean       43.498306   82499.304597  127578.865512     574.264346   \n",
      "std        14.990258   38963.013729   70840.706142     158.903867   \n",
      "min        18.000000   15000.000000    5000.000000     300.000000   \n",
      "25%        31.000000   48825.500000   66156.000000     437.000000   \n",
      "50%        43.000000   82466.000000  127556.000000     574.000000   \n",
      "75%        56.000000  116219.000000  188985.000000     712.000000   \n",
      "max        69.000000  149999.000000  249999.000000     849.000000   \n",
      "\n",
      "       MonthsEmployed  NumCreditLines   InterestRate       LoanTerm  \\\n",
      "count   255347.000000   255347.000000  255347.000000  255347.000000   \n",
      "mean        59.541976        2.501036      13.492773      36.025894   \n",
      "std         34.643376        1.117018       6.636443      16.969330   \n",
      "min          0.000000        1.000000       2.000000      12.000000   \n",
      "25%         30.000000        2.000000       7.770000      24.000000   \n",
      "50%         60.000000        2.000000      13.460000      36.000000   \n",
      "75%         90.000000        3.000000      19.250000      48.000000   \n",
      "max        119.000000        4.000000      25.000000      60.000000   \n",
      "\n",
      "            DTIRatio        Default  \n",
      "count  255347.000000  255347.000000  \n",
      "mean        0.500212       0.116128  \n",
      "std         0.230917       0.320379  \n",
      "min         0.100000       0.000000  \n",
      "25%         0.300000       0.000000  \n",
      "50%         0.500000       0.000000  \n",
      "75%         0.700000       0.000000  \n",
      "max         0.900000       1.000000  \n"
     ]
    }
   ],
   "source": [
    "import pandas as pd\n",
    "\n",
    "# Load dataset\n",
    "data_path = r\"C:\\Users\\GURUDEEP SINGH\\OneDrive\\Documents\\Loan Default\\Loan_default.csv\"\n",
    "data = pd.read_csv(data_path)\n",
    "\n",
    "# Basic data inspection\n",
    "print(data.head())\n",
    "print(data.info())\n",
    "print(data.describe())\n"
   ]
  },
  {
   "cell_type": "code",
   "execution_count": 2,
   "id": "39533c31-c47f-4c8a-aff2-8ff9d3ee9938",
   "metadata": {},
   "outputs": [
    {
     "name": "stdout",
     "output_type": "stream",
     "text": [
      "LoanID            255347\n",
      "Age                    0\n",
      "Income                 0\n",
      "LoanAmount             0\n",
      "CreditScore            0\n",
      "MonthsEmployed         0\n",
      "NumCreditLines         0\n",
      "InterestRate           0\n",
      "LoanTerm               0\n",
      "DTIRatio               0\n",
      "Education         255347\n",
      "EmploymentType    255347\n",
      "MaritalStatus     255347\n",
      "HasMortgage       255347\n",
      "HasDependents     255347\n",
      "LoanPurpose       255347\n",
      "HasCoSigner       255347\n",
      "Default                0\n",
      "dtype: int64\n"
     ]
    }
   ],
   "source": [
    "# Check for non-numeric values in numeric columns\n",
    "print(data.apply(lambda s: pd.to_numeric(s, errors='coerce')).isnull().sum())\n"
   ]
  },
  {
   "cell_type": "code",
   "execution_count": 3,
   "id": "fc28e6cc-f09e-4226-b018-d565fa274797",
   "metadata": {},
   "outputs": [
    {
     "name": "stdout",
     "output_type": "stream",
     "text": [
      "   LoanID  Age  Income  LoanAmount  CreditScore  MonthsEmployed  \\\n",
      "0     NaN   56   85994       50587          520              80   \n",
      "1     NaN   69   50432      124440          458              15   \n",
      "2     NaN   46   84208      129188          451              26   \n",
      "3     NaN   32   31713       44799          743               0   \n",
      "4     NaN   60   20437        9139          633               8   \n",
      "\n",
      "   NumCreditLines  InterestRate  LoanTerm  DTIRatio  Education  \\\n",
      "0               4         15.23        36      0.44        NaN   \n",
      "1               1          4.81        60      0.68        NaN   \n",
      "2               3         21.17        24      0.31        NaN   \n",
      "3               3          7.07        24      0.23        NaN   \n",
      "4               4          6.51        48      0.73        NaN   \n",
      "\n",
      "   EmploymentType  MaritalStatus  HasMortgage  HasDependents  LoanPurpose  \\\n",
      "0             NaN            NaN          NaN            NaN          NaN   \n",
      "1             NaN            NaN          NaN            NaN          NaN   \n",
      "2             NaN            NaN          NaN            NaN          NaN   \n",
      "3             NaN            NaN          NaN            NaN          NaN   \n",
      "4             NaN            NaN          NaN            NaN          NaN   \n",
      "\n",
      "   HasCoSigner  Default  \n",
      "0          NaN        0  \n",
      "1          NaN        0  \n",
      "2          NaN        1  \n",
      "3          NaN        0  \n",
      "4          NaN        0  \n"
     ]
    }
   ],
   "source": [
    "# Convert columns to numeric, coercing errors to NaN\n",
    "data_cleaned = data.apply(lambda s: pd.to_numeric(s, errors='coerce'))\n",
    "\n",
    "# Check the first few rows to understand the changes\n",
    "print(data_cleaned.head())\n",
    "\n",
    "# Handle NaN values - for simplicity, we can drop them (you can use other strategies too)\n",
    "data_cleaned = data_cleaned.dropna()\n"
   ]
  },
  {
   "cell_type": "code",
   "execution_count": 4,
   "id": "669279c7-588d-4ae5-9394-8459b90db505",
   "metadata": {},
   "outputs": [
    {
     "name": "stdout",
     "output_type": "stream",
     "text": [
      "       LoanID  Age  Income  LoanAmount  CreditScore  MonthsEmployed  \\\n",
      "0  I38PQUQS96   56   85994       50587          520              80   \n",
      "1  HPSK72WA7R   69   50432      124440          458              15   \n",
      "2  C1OZ6DPJ8Y   46   84208      129188          451              26   \n",
      "3  V2KKSFM3UN   32   31713       44799          743               0   \n",
      "4  EY08JDHTZP   60   20437        9139          633               8   \n",
      "\n",
      "   NumCreditLines  InterestRate  LoanTerm  DTIRatio  ...  \\\n",
      "0               4         15.23        36      0.44  ...   \n",
      "1               1          4.81        60      0.68  ...   \n",
      "2               3         21.17        24      0.31  ...   \n",
      "3               3          7.07        24      0.23  ...   \n",
      "4               4          6.51        48      0.73  ...   \n",
      "\n",
      "   EmploymentType_Unemployed  MaritalStatus_Married  MaritalStatus_Single  \\\n",
      "0                      False                  False                 False   \n",
      "1                      False                   True                 False   \n",
      "2                       True                  False                 False   \n",
      "3                      False                   True                 False   \n",
      "4                       True                  False                 False   \n",
      "\n",
      "   HasMortgage_Yes  HasDependents_Yes  LoanPurpose_Business  \\\n",
      "0             True               True                 False   \n",
      "1            False              False                 False   \n",
      "2             True               True                 False   \n",
      "3            False              False                  True   \n",
      "4            False               True                 False   \n",
      "\n",
      "   LoanPurpose_Education  LoanPurpose_Home  LoanPurpose_Other  HasCoSigner_Yes  \n",
      "0                  False             False               True             True  \n",
      "1                  False             False               True             True  \n",
      "2                  False             False              False            False  \n",
      "3                  False             False              False            False  \n",
      "4                  False             False              False            False  \n",
      "\n",
      "[5 rows x 26 columns]\n"
     ]
    }
   ],
   "source": [
    "# One-hot encoding categorical features\n",
    "categorical_cols = ['Education', 'EmploymentType', 'MaritalStatus', 'HasMortgage', 'HasDependents', 'LoanPurpose', 'HasCoSigner']\n",
    "data = pd.get_dummies(data, columns=categorical_cols, drop_first=True)\n",
    "\n",
    "# Verify changes\n",
    "print(data.head())\n"
   ]
  },
  {
   "cell_type": "code",
   "execution_count": 5,
   "id": "9a65c217-4e37-474a-861a-ae23bc54a293",
   "metadata": {},
   "outputs": [
    {
     "name": "stdout",
     "output_type": "stream",
     "text": [
      "       LoanID  Age  Income  LoanAmount  CreditScore  MonthsEmployed  \\\n",
      "0  I38PQUQS96   56   85994       50587          520              80   \n",
      "1  HPSK72WA7R   69   50432      124440          458              15   \n",
      "2  C1OZ6DPJ8Y   46   84208      129188          451              26   \n",
      "3  V2KKSFM3UN   32   31713       44799          743               0   \n",
      "4  EY08JDHTZP   60   20437        9139          633               8   \n",
      "\n",
      "   NumCreditLines  InterestRate  LoanTerm  DTIRatio  ...  \\\n",
      "0               4         15.23        36      0.44  ...   \n",
      "1               1          4.81        60      0.68  ...   \n",
      "2               3         21.17        24      0.31  ...   \n",
      "3               3          7.07        24      0.23  ...   \n",
      "4               4          6.51        48      0.73  ...   \n",
      "\n",
      "   LoanPurpose_Business  LoanPurpose_Education  LoanPurpose_Home  \\\n",
      "0                 False                  False             False   \n",
      "1                 False                  False             False   \n",
      "2                 False                  False             False   \n",
      "3                  True                  False             False   \n",
      "4                 False                  False             False   \n",
      "\n",
      "   LoanPurpose_Other  HasCoSigner_Yes  Income_to_LoanAmount  \\\n",
      "0               True             True              1.699923   \n",
      "1               True             True              0.405272   \n",
      "2              False            False              0.651825   \n",
      "3              False            False              0.707895   \n",
      "4              False            False              2.236240   \n",
      "\n",
      "   CreditScore_Bucket_Low  CreditScore_Bucket_Medium  DTI_Bucket_Low  \\\n",
      "0                    True                      False           False   \n",
      "1                    True                      False           False   \n",
      "2                    True                      False           False   \n",
      "3                   False                      False            True   \n",
      "4                   False                       True           False   \n",
      "\n",
      "   DTI_Bucket_Medium  \n",
      "0               True  \n",
      "1              False  \n",
      "2               True  \n",
      "3              False  \n",
      "4              False  \n",
      "\n",
      "[5 rows x 31 columns]\n"
     ]
    }
   ],
   "source": [
    "# Create new features\n",
    "data['CreditScore_Bucket'] = data['CreditScore'].apply(lambda x: 'High' if x > 700 else ('Medium' if x > 600 else 'Low'))\n",
    "data['Income_to_LoanAmount'] = data['Income'] / data['LoanAmount']\n",
    "data['DTI_Bucket'] = data['DTIRatio'].apply(lambda x: 'Low' if x < 0.3 else ('Medium' if x < 0.6 else 'High'))\n",
    "\n",
    "# One-hot encoding new features\n",
    "data = pd.get_dummies(data, columns=['CreditScore_Bucket', 'DTI_Bucket'], drop_first=True)\n",
    "\n",
    "# Verify changes\n",
    "print(data.head())\n"
   ]
  },
  {
   "cell_type": "code",
   "execution_count": 6,
   "id": "43573085-b739-4878-91fe-1fa33bb23e22",
   "metadata": {},
   "outputs": [
    {
     "name": "stdout",
     "output_type": "stream",
     "text": [
      "(204277, 29) (51070, 29) (204277,) (51070,)\n"
     ]
    }
   ],
   "source": [
    "from sklearn.model_selection import train_test_split\n",
    "\n",
    "X = data.drop(['Default', 'LoanID'], axis=1)  # Excluding 'LoanID' as it's likely not useful for predictions\n",
    "y = data['Default']\n",
    "\n",
    "X_train, X_test, y_train, y_test = train_test_split(X, y, test_size=0.2, random_state=42)\n",
    "\n",
    "# Check the shapes of the splits\n",
    "print(X_train.shape, X_test.shape, y_train.shape, y_test.shape)\n"
   ]
  },
  {
   "cell_type": "code",
   "execution_count": 8,
   "id": "d51eec0a-94d2-4004-bf97-0b3122eae0f0",
   "metadata": {},
   "outputs": [
    {
     "name": "stdout",
     "output_type": "stream",
     "text": [
      "[0 0 0 0 0 0 0 0 0 0]\n"
     ]
    }
   ],
   "source": [
    "from sklearn.preprocessing import StandardScaler\n",
    "from sklearn.linear_model import LogisticRegression\n",
    "\n",
    "# Scaling the data\n",
    "scaler = StandardScaler()\n",
    "X_train_scaled = scaler.fit_transform(X_train)\n",
    "X_test_scaled = scaler.transform(X_test)\n",
    "\n",
    "# Logistic Regression Model\n",
    "pd_model = LogisticRegression(max_iter=500)\n",
    "pd_model.fit(X_train_scaled, y_train)\n",
    "\n",
    "# Predictions and evaluation\n",
    "pd_preds = pd_model.predict(X_test_scaled)\n",
    "print(pd_preds[:10])  # Output the first 10 predictions\n"
   ]
  },
  {
   "cell_type": "code",
   "execution_count": 9,
   "id": "5534b5b6-92bc-4e1d-85ac-253ddc52bb9a",
   "metadata": {},
   "outputs": [
    {
     "name": "stdout",
     "output_type": "stream",
     "text": [
      "Accuracy: 0.8859212845114549\n",
      "Classification Report:\n",
      "              precision    recall  f1-score   support\n",
      "\n",
      "           0       0.89      1.00      0.94     45170\n",
      "           1       0.61      0.03      0.06      5900\n",
      "\n",
      "    accuracy                           0.89     51070\n",
      "   macro avg       0.75      0.52      0.50     51070\n",
      "weighted avg       0.86      0.89      0.84     51070\n",
      "\n"
     ]
    }
   ],
   "source": [
    "from sklearn.metrics import classification_report, accuracy_score\n",
    "\n",
    "# PD Evaluation\n",
    "print(\"Accuracy:\", accuracy_score(y_test, pd_preds))\n",
    "print(\"Classification Report:\")\n",
    "print(classification_report(y_test, pd_preds))\n"
   ]
  },
  {
   "cell_type": "code",
   "execution_count": 10,
   "id": "17bd2d3f-2558-4694-ab12-d8b9e3846e5f",
   "metadata": {},
   "outputs": [
    {
     "name": "stdout",
     "output_type": "stream",
     "text": [
      "LGD Predictions: [ 0.00358436  0.05707864  0.09771599  0.15331234  0.16131584  0.17950595\n",
      "  0.07219976  0.06697962 -0.00976321  0.12647127]\n",
      "LGD Mean Squared Error: 0.09343924154565102\n"
     ]
    }
   ],
   "source": [
    "from sklearn.linear_model import LinearRegression\n",
    "from sklearn.metrics import mean_squared_error\n",
    "\n",
    "# Train the LGD model\n",
    "lgd_model = LinearRegression()\n",
    "lgd_model.fit(X_train_scaled, y_train)\n",
    "\n",
    "# Predictions and evaluation\n",
    "lgd_preds = lgd_model.predict(X_test_scaled)\n",
    "print(\"LGD Predictions:\", lgd_preds[:10])\n",
    "print(\"LGD Mean Squared Error:\", mean_squared_error(y_test, lgd_preds))\n"
   ]
  },
  {
   "cell_type": "code",
   "execution_count": 12,
   "id": "a42f1591-531e-4f75-b395-a7a8e723b4a6",
   "metadata": {},
   "outputs": [],
   "source": []
  },
  {
   "cell_type": "code",
   "execution_count": null,
   "id": "16affddd-2450-4c28-9b85-dd15130ed852",
   "metadata": {},
   "outputs": [],
   "source": []
  },
  {
   "cell_type": "code",
   "execution_count": null,
   "id": "c9313d73-0ec7-4bd3-be0a-099b0eb0feec",
   "metadata": {},
   "outputs": [],
   "source": []
  }
 ],
 "metadata": {
  "kernelspec": {
   "display_name": "Python 3 (ipykernel)",
   "language": "python",
   "name": "python3"
  },
  "language_info": {
   "codemirror_mode": {
    "name": "ipython",
    "version": 3
   },
   "file_extension": ".py",
   "mimetype": "text/x-python",
   "name": "python",
   "nbconvert_exporter": "python",
   "pygments_lexer": "ipython3",
   "version": "3.8.20"
  }
 },
 "nbformat": 4,
 "nbformat_minor": 5
}

{
 "cells": [
  {
   "cell_type": "code",
   "execution_count": 1,
   "id": "0b20d005-eb1b-43f8-89e5-684a35835e56",
   "metadata": {},
   "outputs": [
    {
     "name": "stdout",
     "output_type": "stream",
     "text": [
      "                                 Open        High         Low       Close  \\\n",
      "Date                                                                        \n",
      "2024-09-26 00:00:00-04:00  227.300003  228.500000  225.410004  227.520004   \n",
      "2024-09-27 00:00:00-04:00  228.460007  229.520004  227.300003  227.789993   \n",
      "2024-09-30 00:00:00-04:00  230.039993  233.000000  229.649994  233.000000   \n",
      "2024-10-01 00:00:00-04:00  229.520004  229.649994  223.740005  226.210007   \n",
      "2024-10-02 00:00:00-04:00  225.889999  227.369995  223.020004  226.779999   \n",
      "\n",
      "                             Volume  Dividends  Stock Splits  \n",
      "Date                                                          \n",
      "2024-09-26 00:00:00-04:00  36636700        0.0           0.0  \n",
      "2024-09-27 00:00:00-04:00  34026000        0.0           0.0  \n",
      "2024-09-30 00:00:00-04:00  54541900        0.0           0.0  \n",
      "2024-10-01 00:00:00-04:00  63285000        0.0           0.0  \n",
      "2024-10-02 00:00:00-04:00  32880600        0.0           0.0  \n"
     ]
    }
   ],
   "source": [
    "import yfinance as yf\n",
    "import pandas as pd\n",
    "import numpy as np\n",
    "from transformers import pipeline\n",
    "from sklearn.model_selection import train_test_split\n",
    "import matplotlib.pyplot as plt\n",
    "\n",
    "# Define the ticker symbol\n",
    "ticker_symbol = 'AAPL'\n",
    "\n",
    "# Get data on this ticker\n",
    "ticker_data = yf.Ticker(ticker_symbol)\n",
    "\n",
    "# Get the historical prices for this ticker\n",
    "ticker_df = ticker_data.history(period='1mo')  # You can change the period as needed\n",
    "\n",
    "# Display the first few rows of the dataframe\n",
    "print(ticker_df.head())\n"
   ]
  },
  {
   "cell_type": "code",
   "execution_count": 2,
   "id": "9f3339a8-3a40-4e15-9e9e-51e82777a036",
   "metadata": {},
   "outputs": [
    {
     "name": "stdout",
     "output_type": "stream",
     "text": [
      "                                            headline  sentiment\n",
      "0  Apple's stock surges after strong earnings report          1\n",
      "1           Apple faces lawsuit over iPhone slowdown          0\n",
      "2                 Apple announces new product lineup          1\n",
      "3                  Apple's revenue growth slows down          0\n",
      "4                 Apple to open new stores worldwide          1\n"
     ]
    }
   ],
   "source": [
    "# Load a sample financial news dataset (replace with your actual dataset)\n",
    "news_data = {\n",
    "    'headline': [\n",
    "        \"Apple's stock surges after strong earnings report\",\n",
    "        \"Apple faces lawsuit over iPhone slowdown\",\n",
    "        \"Apple announces new product lineup\",\n",
    "        \"Apple's revenue growth slows down\",\n",
    "        \"Apple to open new stores worldwide\"\n",
    "    ],\n",
    "    'sentiment': [1, 0, 1, 0, 1]  # 1 for positive, 0 for negative\n",
    "}\n",
    "\n",
    "news_df = pd.DataFrame(news_data)\n",
    "\n",
    "# Display the first few rows of the news data\n",
    "print(news_df.head())\n"
   ]
  },
  {
   "cell_type": "code",
   "execution_count": 3,
   "id": "1a550eda-36de-45ba-b70c-5f7a2099c7ec",
   "metadata": {},
   "outputs": [],
   "source": [
    "from transformers import AutoTokenizer, AutoModelForSequenceClassification\n",
    "from transformers import TextClassificationPipeline\n",
    "\n",
    "# Load the tokenizer and model explicitly\n",
    "tokenizer = AutoTokenizer.from_pretrained(\"distilbert-base-uncased-finetuned-sst-2-english\")\n",
    "model = AutoModelForSequenceClassification.from_pretrained(\"distilbert-base-uncased-finetuned-sst-2-english\")\n",
    "\n",
    "# Initialize the sentiment analysis pipeline with truncation\n",
    "sentiment_pipeline = TextClassificationPipeline(model=model, tokenizer=tokenizer, truncation=True)\n"
   ]
  },
  {
   "cell_type": "code",
   "execution_count": 4,
   "id": "b2165ca4-f6f2-411f-9c92-4859e6559a7d",
   "metadata": {},
   "outputs": [
    {
     "name": "stdout",
     "output_type": "stream",
     "text": [
      "Processed text: Apple's stock surges after strong earnings report... -> Sentiment: POSITIVE\n",
      "Processed text: Apple faces lawsuit over iPhone slowdown... -> Sentiment: NEGATIVE\n",
      "Processed text: Apple announces new product lineup... -> Sentiment: POSITIVE\n",
      "Processed text: Apple's revenue growth slows down... -> Sentiment: NEGATIVE\n",
      "Processed text: Apple to open new stores worldwide... -> Sentiment: POSITIVE\n",
      "                                            headline  sentiment  \\\n",
      "0  Apple's stock surges after strong earnings report          1   \n",
      "1           Apple faces lawsuit over iPhone slowdown          0   \n",
      "2                 Apple announces new product lineup          1   \n",
      "3                  Apple's revenue growth slows down          0   \n",
      "4                 Apple to open new stores worldwide          1   \n",
      "\n",
      "  predicted_sentiment  \n",
      "0            POSITIVE  \n",
      "1            NEGATIVE  \n",
      "2            POSITIVE  \n",
      "3            NEGATIVE  \n",
      "4            POSITIVE  \n"
     ]
    },
    {
     "data": {
      "image/png": "[encoded data removed]",
      "text/plain": [
       "<Figure size 640x480 with 1 Axes>"
      ]
     },
     "metadata": {},
     "output_type": "display_data"
    }
   ],
   "source": [
    "# Apply the sentiment analysis model to the news data\n",
    "def get_sentiment(text):\n",
    "    try:\n",
    "        sentiment = sentiment_pipeline(text)[0]['label']\n",
    "        print(f\"Processed text: {text[:50]}... -> Sentiment: {sentiment}\")\n",
    "        return sentiment\n",
    "    except Exception as e:\n",
    "        print(f\"Error processing text: {text[:50]}...\")\n",
    "        print(e)\n",
    "        return None\n",
    "\n",
    "news_df['predicted_sentiment'] = news_df['headline'].apply(get_sentiment)\n",
    "\n",
    "# Display the first few rows of the news data with predicted sentiment labels\n",
    "print(news_df.head())\n",
    "\n",
    "# Visualize the distribution of sentiments\n",
    "news_df['predicted_sentiment'].value_counts().plot(kind='bar')\n",
    "plt.title('Sentiment Distribution in News Data')\n",
    "plt.xlabel('Sentiment')\n",
    "plt.ylabel('Count')\n",
    "plt.show()\n"
   ]
  },
  {
   "cell_type": "code",
   "execution_count": 5,
   "id": "8881a22b-291e-4815-b700-69d0342694df",
   "metadata": {},
   "outputs": [
    {
     "name": "stdout",
     "output_type": "stream",
     "text": [
      "Model Accuracy: 1.00\n"
     ]
    }
   ],
   "source": [
    "# Convert sentiment labels to match the predicted sentiment format\n",
    "news_df['sentiment'] = news_df['sentiment'].apply(lambda x: 'POSITIVE' if x == 1 else 'NEGATIVE')\n",
    "\n",
    "# Calculate the accuracy of the model\n",
    "accuracy = (news_df['predicted_sentiment'] == news_df['sentiment']).mean()\n",
    "print(f'Model Accuracy: {accuracy:.2f}')\n"
   ]
  },
  {
   "cell_type": "code",
   "execution_count": null,
   "id": "cae7d518-812c-4928-98ea-671fd31d294e",
   "metadata": {},
   "outputs": [],
   "source": []
  }
 ],
 "metadata": {
  "kernelspec": {
   "display_name": "Python 3 (ipykernel)",
   "language": "python",
   "name": "python3"
  },
  "language_info": {
   "codemirror_mode": {
    "name": "ipython",
    "version": 3
   },
   "file_extension": ".py",
   "mimetype": "text/x-python",
   "name": "python",
   "nbconvert_exporter": "python",
   "pygments_lexer": "ipython3",
   "version": "3.9.20"
  }
 },
 "nbformat": 4,
 "nbformat_minor": 5
}

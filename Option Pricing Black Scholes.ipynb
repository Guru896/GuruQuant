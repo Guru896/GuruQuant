{
 "cells": [
  {
   "cell_type": "code",
   "execution_count": 1,
   "id": "f0bb72fc-4d8a-47e0-accc-1ff4c891024b",
   "metadata": {},
   "outputs": [],
   "source": [
    "import numpy as np\n",
    "from scipy.stats import norm\n",
    "\n",
    "def black_scholes(S, K, T, r, sigma, option_type='call'):\n",
    "    \"\"\"\n",
    "    Calculate the Black-Scholes option price.\n",
    "    \n",
    "    Parameters:\n",
    "    S : float : Current stock price\n",
    "    K : float : Strike price\n",
    "    T : float : Time to maturity (in years)\n",
    "    r : float : Risk-free interest rate\n",
    "    sigma : float : Volatility of the underlying stock\n",
    "    option_type : str : 'call' or 'put'\n",
    "    \n",
    "    Returns:\n",
    "    float : Option price\n",
    "    \"\"\"\n",
    "    d1 = (np.log(S / K) + (r + 0.5 * sigma**2) * T) / (sigma * np.sqrt(T))\n",
    "    d2 = d1 - sigma * np.sqrt(T)\n",
    "    \n",
    "    if option_type == 'call':\n",
    "        price = S * norm.cdf(d1) - K * np.exp(-r * T) * norm.cdf(d2)\n",
    "    elif option_type == 'put':\n",
    "        price = K * np.exp(-r * T) * norm.cdf(-d2) - S * norm.cdf(-d1)\n",
    "    else:\n",
    "        raise ValueError(\"Invalid option type. Use 'call' or 'put'.\")\n",
    "    \n",
    "    return price\n"
   ]
  },
  {
   "cell_type": "code",
   "execution_count": 2,
   "id": "a102dc5c-8638-4d37-89b8-3b29a88c8f2f",
   "metadata": {},
   "outputs": [
    {
     "name": "stdout",
     "output_type": "stream",
     "text": [
      "Call Option Price: 10.450583572185565\n",
      "Put Option Price: 5.573526022256971\n"
     ]
    }
   ],
   "source": [
    "# Example parameters\n",
    "S = 100  # Current stock price\n",
    "K = 100  # Strike price\n",
    "T = 1    # Time to maturity (1 year)\n",
    "r = 0.05 # Risk-free interest rate (5%)\n",
    "sigma = 0.2 # Volatility (20%)\n",
    "\n",
    "# Calculate call and put option prices\n",
    "call_price = black_scholes(S, K, T, r, sigma, option_type='call')\n",
    "put_price = black_scholes(S, K, T, r, sigma, option_type='put')\n",
    "\n",
    "print(f\"Call Option Price: {call_price}\")\n",
    "print(f\"Put Option Price: {put_price}\")\n"
   ]
  },
  {
   "cell_type": "code",
   "execution_count": null,
   "id": "b00d8984-1a16-46c5-aaeb-e256b3b08e91",
   "metadata": {},
   "outputs": [],
   "source": []
  }
 ],
 "metadata": {
  "kernelspec": {
   "display_name": "Python 3 (ipykernel)",
   "language": "python",
   "name": "python3"
  },
  "language_info": {
   "codemirror_mode": {
    "name": "ipython",
    "version": 3
   },
   "file_extension": ".py",
   "mimetype": "text/x-python",
   "name": "python",
   "nbconvert_exporter": "python",
   "pygments_lexer": "ipython3",
   "version": "3.12.4"
  }
 },
 "nbformat": 4,
 "nbformat_minor": 5
}

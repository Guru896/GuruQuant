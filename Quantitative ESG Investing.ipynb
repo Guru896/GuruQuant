{
 "cells": [
  {
   "cell_type": "code",
   "execution_count": 1,
   "id": "bdfabfcf-7bdf-48f0-97a4-05143c6f8802",
   "metadata": {},
   "outputs": [],
   "source": [
    "import pandas as pd\n",
    "import numpy as np\n",
    "import yfinance as yf\n",
    "from sklearn.model_selection import train_test_split\n",
    "from sklearn.ensemble import RandomForestClassifier\n",
    "from sklearn.metrics import accuracy_score\n",
    "import matplotlib.pyplot as plt\n"
   ]
  },
  {
   "cell_type": "code",
   "execution_count": 2,
   "id": "af0856ca-51be-42e7-a28d-6e1a2c114335",
   "metadata": {},
   "outputs": [
    {
     "name": "stderr",
     "output_type": "stream",
     "text": [
      "[*********************100%***********************]  5 of 5 completed"
     ]
    },
    {
     "name": "stdout",
     "output_type": "stream",
     "text": [
      "Price                       Adj Close                                      \\\n",
      "Ticker                           AAPL        AMZN       GOOGL        MSFT   \n",
      "Date                                                                        \n",
      "2023-10-25 00:00:00+00:00  170.228928  121.389999  125.299736  338.131989   \n",
      "2023-10-26 00:00:00+00:00  166.040344  119.570000  121.977966  325.447205   \n",
      "2023-10-27 00:00:00+00:00  167.363586  127.739998  121.868233  327.352875   \n",
      "2023-10-30 00:00:00+00:00  169.423035  132.710007  124.152580  334.796997   \n",
      "2023-10-31 00:00:00+00:00  169.900620  133.089996  123.773521  335.591034   \n",
      "\n",
      "Price                                       Close                          \\\n",
      "Ticker                           TSLA        AAPL        AMZN       GOOGL   \n",
      "Date                                                                        \n",
      "2023-10-25 00:00:00+00:00  212.419998  171.100006  121.389999  125.610001   \n",
      "2023-10-26 00:00:00+00:00  205.759995  166.889999  119.570000  122.279999   \n",
      "2023-10-27 00:00:00+00:00  207.300003  168.220001  127.739998  122.169998   \n",
      "2023-10-30 00:00:00+00:00  197.360001  170.289993  132.710007  124.459999   \n",
      "2023-10-31 00:00:00+00:00  200.839996  170.770004  133.089996  124.080002   \n",
      "\n",
      "Price                                              ...        Open  \\\n",
      "Ticker                           MSFT        TSLA  ...        AAPL   \n",
      "Date                                               ...               \n",
      "2023-10-25 00:00:00+00:00  340.670013  212.419998  ...  171.880005   \n",
      "2023-10-26 00:00:00+00:00  327.890015  205.759995  ...  170.369995   \n",
      "2023-10-27 00:00:00+00:00  329.809998  207.300003  ...  166.910004   \n",
      "2023-10-30 00:00:00+00:00  337.309998  197.360001  ...  169.020004   \n",
      "2023-10-31 00:00:00+00:00  338.109985  200.839996  ...  169.350006   \n",
      "\n",
      "Price                                                                      \\\n",
      "Ticker                           AMZN       GOOGL        MSFT        TSLA   \n",
      "Date                                                                        \n",
      "2023-10-25 00:00:00+00:00  126.040001  128.160004  345.019989  215.880005   \n",
      "2023-10-26 00:00:00+00:00  120.629997  123.269997  340.540009  211.320007   \n",
      "2023-10-27 00:00:00+00:00  126.199997  122.879997  330.429993  210.600006   \n",
      "2023-10-30 00:00:00+00:00  129.720001  123.209999  333.410004  209.279999   \n",
      "2023-10-31 00:00:00+00:00  132.750000  125.059998  338.850006  196.119995   \n",
      "\n",
      "Price                        Volume                                            \n",
      "Ticker                         AAPL       AMZN     GOOGL      MSFT       TSLA  \n",
      "Date                                                                           \n",
      "2023-10-25 00:00:00+00:00  57157000   74577500  84366200  55053800  107065100  \n",
      "2023-10-26 00:00:00+00:00  70625300  100419500  57061100  37828500  115112600  \n",
      "2023-10-27 00:00:00+00:00  58499100  125309300  44566500  29856500   94881200  \n",
      "2023-10-30 00:00:00+00:00  51131000   72485500  28940100  22828100  136448200  \n",
      "2023-10-31 00:00:00+00:00  44846000   51589400  26292300  20265300  118068300  \n",
      "\n",
      "[5 rows x 30 columns]\n"
     ]
    },
    {
     "name": "stderr",
     "output_type": "stream",
     "text": [
      "\n"
     ]
    }
   ],
   "source": [
    "# Define the list of tickers for ESG-focused companies\n",
    "tickers = ['AAPL', 'MSFT', 'GOOGL', 'TSLA', 'AMZN']  # Example tickers\n",
    "\n",
    "# Download historical market data\n",
    "esg_data = yf.download(tickers, period='1y', interval='1d')\n",
    "print(esg_data.head())\n"
   ]
  },
  {
   "cell_type": "code",
   "execution_count": 3,
   "id": "58e5ac88-65ca-4030-878d-8dc0bdc92b2b",
   "metadata": {},
   "outputs": [
    {
     "name": "stdout",
     "output_type": "stream",
     "text": [
      "Price      Ticker\n",
      "Adj Close  AAPL      0\n",
      "           AMZN      0\n",
      "           GOOGL     0\n",
      "           MSFT      0\n",
      "           TSLA      0\n",
      "Close      AAPL      0\n",
      "           AMZN      0\n",
      "           GOOGL     0\n",
      "           MSFT      0\n",
      "           TSLA      0\n",
      "High       AAPL      0\n",
      "           AMZN      0\n",
      "           GOOGL     0\n",
      "           MSFT      0\n",
      "           TSLA      0\n",
      "Low        AAPL      0\n",
      "           AMZN      0\n",
      "           GOOGL     0\n",
      "           MSFT      0\n",
      "           TSLA      0\n",
      "Open       AAPL      0\n",
      "           AMZN      0\n",
      "           GOOGL     0\n",
      "           MSFT      0\n",
      "           TSLA      0\n",
      "Volume     AAPL      0\n",
      "           AMZN      0\n",
      "           GOOGL     0\n",
      "           MSFT      0\n",
      "           TSLA      0\n",
      "dtype: int64\n"
     ]
    }
   ],
   "source": [
    "esg_data.fillna(esg_data.mean(), inplace=True)\n",
    "print(esg_data.isnull().sum())  # Check for any remaining missing values\n"
   ]
  },
  {
   "cell_type": "code",
   "execution_count": 4,
   "id": "303e0271-89ac-45e7-8952-438f2a341af1",
   "metadata": {},
   "outputs": [
    {
     "name": "stdout",
     "output_type": "stream",
     "text": [
      "Price                       Adj Close                                      \\\n",
      "Ticker                           AAPL        AMZN       GOOGL        MSFT   \n",
      "Date                                                                        \n",
      "2023-10-25 00:00:00+00:00  170.228928  121.389999  125.299736  338.131989   \n",
      "2023-10-26 00:00:00+00:00  166.040344  119.570000  121.977966  325.447205   \n",
      "2023-10-27 00:00:00+00:00  167.363586  127.739998  121.868233  327.352875   \n",
      "2023-10-30 00:00:00+00:00  169.423035  132.710007  124.152580  334.796997   \n",
      "2023-10-31 00:00:00+00:00  169.900620  133.089996  123.773521  335.591034   \n",
      "\n",
      "Price                                       Close                          \\\n",
      "Ticker                           TSLA        AAPL        AMZN       GOOGL   \n",
      "Date                                                                        \n",
      "2023-10-25 00:00:00+00:00  212.419998  171.100006  121.389999  125.610001   \n",
      "2023-10-26 00:00:00+00:00  205.759995  166.889999  119.570000  122.279999   \n",
      "2023-10-27 00:00:00+00:00  207.300003  168.220001  127.739998  122.169998   \n",
      "2023-10-30 00:00:00+00:00  197.360001  170.289993  132.710007  124.459999   \n",
      "2023-10-31 00:00:00+00:00  200.839996  170.770004  133.089996  124.080002   \n",
      "\n",
      "Price                                              ...        Open  \\\n",
      "Ticker                           MSFT        TSLA  ...        AAPL   \n",
      "Date                                               ...               \n",
      "2023-10-25 00:00:00+00:00  340.670013  212.419998  ...  171.880005   \n",
      "2023-10-26 00:00:00+00:00  327.890015  205.759995  ...  170.369995   \n",
      "2023-10-27 00:00:00+00:00  329.809998  207.300003  ...  166.910004   \n",
      "2023-10-30 00:00:00+00:00  337.309998  197.360001  ...  169.020004   \n",
      "2023-10-31 00:00:00+00:00  338.109985  200.839996  ...  169.350006   \n",
      "\n",
      "Price                                                                      \\\n",
      "Ticker                           AMZN       GOOGL        MSFT        TSLA   \n",
      "Date                                                                        \n",
      "2023-10-25 00:00:00+00:00  126.040001  128.160004  345.019989  215.880005   \n",
      "2023-10-26 00:00:00+00:00  120.629997  123.269997  340.540009  211.320007   \n",
      "2023-10-27 00:00:00+00:00  126.199997  122.879997  330.429993  210.600006   \n",
      "2023-10-30 00:00:00+00:00  129.720001  123.209999  333.410004  209.279999   \n",
      "2023-10-31 00:00:00+00:00  132.750000  125.059998  338.850006  196.119995   \n",
      "\n",
      "Price                        Volume                                            \n",
      "Ticker                         AAPL       AMZN     GOOGL      MSFT       TSLA  \n",
      "Date                                                                           \n",
      "2023-10-25 00:00:00+00:00  57157000   74577500  84366200  55053800  107065100  \n",
      "2023-10-26 00:00:00+00:00  70625300  100419500  57061100  37828500  115112600  \n",
      "2023-10-27 00:00:00+00:00  58499100  125309300  44566500  29856500   94881200  \n",
      "2023-10-30 00:00:00+00:00  51131000   72485500  28940100  22828100  136448200  \n",
      "2023-10-31 00:00:00+00:00  44846000   51589400  26292300  20265300  118068300  \n",
      "\n",
      "[5 rows x 30 columns]\n"
     ]
    }
   ],
   "source": [
    "esg_data = pd.get_dummies(esg_data, drop_first=True)\n",
    "print(esg_data.head())  # Check the transformed data\n"
   ]
  },
  {
   "cell_type": "code",
   "execution_count": 5,
   "id": "93a0672f-2bdb-42b1-ad22-7ebb977ee7ad",
   "metadata": {},
   "outputs": [
    {
     "name": "stdout",
     "output_type": "stream",
     "text": [
      "[[-1.28209785e+00 -2.98670236e+00 -1.78376462e+00 -2.56811777e+00\n",
      "   1.36980831e-01 -1.27094524e+00 -2.98670236e+00 -1.78540235e+00\n",
      "  -2.57225950e+00  1.36980831e-01 -1.24097194e+00 -2.75702275e+00\n",
      "  -1.69432290e+00 -2.46964878e+00  2.51900139e-01 -1.22651930e+00\n",
      "  -2.92174579e+00 -1.73695362e+00 -2.56620865e+00  2.77412066e-01\n",
      "  -1.22472465e+00 -2.67532396e+00 -1.62412658e+00 -2.39669410e+00\n",
      "   2.52846651e-01 -4.55611595e-02  1.83663295e+00  5.19349936e+00\n",
      "   4.00738795e+00  2.55880501e-01]\n",
      " [-1.47790871e+00 -3.09340834e+00 -1.98223858e+00 -3.03644103e+00\n",
      "  -8.64422754e-02 -1.46955326e+00 -3.09340834e+00 -1.98474336e+00\n",
      "  -3.05393172e+00 -8.64422754e-02 -1.31934994e+00 -3.02884712e+00\n",
      "  -1.93001217e+00 -2.64116102e+00  7.71853659e-02 -1.46575619e+00\n",
      "  -3.06540411e+00 -1.96568734e+00 -2.97060937e+00  2.59884573e-02\n",
      "  -1.29583893e+00 -2.98823766e+00 -1.91599787e+00 -2.56449959e+00\n",
      "   9.99517235e-02  4.01644552e-01  3.33977966e+00  2.69951601e+00\n",
      "   1.94856787e+00  5.11287610e-01]\n",
      " [-1.41604885e+00 -2.61440406e+00 -1.98879510e+00 -2.96608353e+00\n",
      "  -3.47796172e-02 -1.40681012e+00 -2.61440406e+00 -1.99132823e+00\n",
      "  -2.98156846e+00 -3.47796172e-02 -1.43225198e+00 -2.54418944e+00\n",
      "  -1.99041526e+00 -2.82543331e+00 -1.60104167e-03 -1.41003010e+00\n",
      "  -2.64326113e+00 -2.02949181e+00 -2.91532641e+00  5.65577334e-02\n",
      "  -1.45878807e+00 -2.66606982e+00 -1.93927588e+00 -2.94318789e+00\n",
      "   7.58103654e-02 -9.97644806e-04  4.78753993e+00  1.55828876e+00\n",
      "   9.95730255e-01 -1.30805386e-01]\n",
      " [-1.31977230e+00 -2.32301409e+00 -1.85230656e+00 -2.69124593e+00\n",
      "  -3.68236825e-01 -1.30915777e+00 -2.32301409e+00 -1.85424389e+00\n",
      "  -2.69889694e+00 -3.68236825e-01 -1.32914754e+00 -2.37184136e+00\n",
      "  -1.86664842e+00 -2.72297608e+00 -5.20375012e-02 -1.31202969e+00\n",
      "  -2.46427712e+00 -1.87660145e+00 -2.78544884e+00 -3.24700002e-01\n",
      "  -1.35941708e+00 -2.46247337e+00 -1.91957896e+00 -2.83156637e+00\n",
      "   3.15510382e-02 -2.45650378e-01  1.71494799e+00  1.31010286e-01\n",
      "   1.55674576e-01  1.18842510e+00]\n",
      " [-1.29744583e+00 -2.30073542e+00 -1.87495512e+00 -2.66193002e+00\n",
      "  -2.51493427e-01 -1.28651315e+00 -2.30073542e+00 -1.87699134e+00\n",
      "  -2.66874577e+00 -2.51493427e-01 -1.34174426e+00 -2.33887498e+00\n",
      "  -1.86842490e+00 -2.73986502e+00 -3.18395024e-01 -1.35862814e+00\n",
      "  -2.27881623e+00 -1.88021288e+00 -2.67715359e+00 -3.45308202e-01\n",
      "  -1.34387556e+00 -2.28721875e+00 -1.80915756e+00 -2.62780158e+00\n",
      "  -4.09698717e-01 -4.54339514e-01  4.99488508e-01 -1.10833512e-01\n",
      "  -1.50639051e-01  6.05093984e-01]]\n"
     ]
    }
   ],
   "source": [
    "from sklearn.preprocessing import StandardScaler\n",
    "\n",
    "scaler = StandardScaler()\n",
    "esg_data_scaled = scaler.fit_transform(esg_data)\n",
    "print(esg_data_scaled[:5])  # Check the scaled data\n"
   ]
  },
  {
   "cell_type": "code",
   "execution_count": 6,
   "id": "e9b01f0b-e1c8-4007-97b0-25cc2ec414a0",
   "metadata": {},
   "outputs": [
    {
     "name": "stdout",
     "output_type": "stream",
     "text": [
      "(Volume, TSLA)\n",
      "0    63\n",
      "1    63\n",
      "2    63\n",
      "3    63\n",
      "Name: count, dtype: int64\n"
     ]
    }
   ],
   "source": [
    "target = esg_data.iloc[:, -1]  # Assuming the last column is the target\n",
    "bins = [-np.inf, target.quantile(0.25), target.quantile(0.5), target.quantile(0.75), np.inf]\n",
    "labels = [0, 1, 2, 3]  # Example labels for the bins\n",
    "target_binned = pd.cut(target, bins=bins, labels=labels)\n",
    "print(target_binned.value_counts())  # Check the distribution of the binned target\n"
   ]
  },
  {
   "cell_type": "code",
   "execution_count": 7,
   "id": "682a1540-23c5-4197-90b3-fa3aec8832af",
   "metadata": {},
   "outputs": [
    {
     "name": "stdout",
     "output_type": "stream",
     "text": [
      "(201, 29) (51, 29) (201,) (51,)\n"
     ]
    }
   ],
   "source": [
    "X = esg_data_scaled[:, :-1]  # Features\n",
    "y = target_binned.values     # Binned target variable\n",
    "\n",
    "X_train, X_test, y_train, y_test = train_test_split(X, y, test_size=0.2, random_state=42)\n",
    "print(X_train.shape, X_test.shape, y_train.shape, y_test.shape)  # Check the shapes of the splits\n"
   ]
  },
  {
   "cell_type": "code",
   "execution_count": 8,
   "id": "75ab86e4-8189-4cc0-979d-ff80800067bf",
   "metadata": {},
   "outputs": [],
   "source": [
    "model = RandomForestClassifier(n_estimators=100, random_state=42)\n"
   ]
  },
  {
   "cell_type": "code",
   "execution_count": 9,
   "id": "fa373044-5433-494a-8959-3aab07368b4a",
   "metadata": {},
   "outputs": [
    {
     "name": "stdout",
     "output_type": "stream",
     "text": [
      "Model training completed.\n"
     ]
    }
   ],
   "source": [
    "model.fit(X_train, y_train)\n",
    "print(\"Model training completed.\")\n"
   ]
  },
  {
   "cell_type": "code",
   "execution_count": 10,
   "id": "816b431e-9e59-44e3-a4d3-68c0ddd3c41e",
   "metadata": {},
   "outputs": [
    {
     "name": "stdout",
     "output_type": "stream",
     "text": [
      "[0 3 2 3 0 2 0 0 3 2]\n"
     ]
    }
   ],
   "source": [
    "y_pred = model.predict(X_test)\n",
    "print(y_pred[:10])  # Check the first 10 predictions\n"
   ]
  },
  {
   "cell_type": "code",
   "execution_count": 11,
   "id": "ab920306-5b8e-45ae-9806-4c6dda258e4c",
   "metadata": {},
   "outputs": [
    {
     "name": "stdout",
     "output_type": "stream",
     "text": [
      "Accuracy: 58.82%\n"
     ]
    }
   ],
   "source": [
    "accuracy = accuracy_score(y_test, y_pred)\n",
    "print(f'Accuracy: {accuracy * 100:.2f}%')\n"
   ]
  },
  {
   "cell_type": "code",
   "execution_count": 12,
   "id": "7c618bc3-d565-47aa-a680-b030489020bc",
   "metadata": {},
   "outputs": [
    {
     "data": {
      "image/png": "[encoded data removed]",
      "text/plain": [
       "<Figure size 1000x600 with 1 Axes>"
      ]
     },
     "metadata": {},
     "output_type": "display_data"
    }
   ],
   "source": [
    "importances = model.feature_importances_\n",
    "indices = np.argsort(importances)[::-1]\n",
    "\n",
    "plt.figure(figsize=(10, 6))\n",
    "plt.title('Feature Importances')\n",
    "plt.bar(range(X.shape[1]), importances[indices], align='center')\n",
    "plt.xticks(range(X.shape[1]), esg_data.columns[indices], rotation=90)\n",
    "plt.tight_layout()\n",
    "plt.show()\n"
   ]
  },
  {
   "cell_type": "code",
   "execution_count": 22,
   "id": "ceba8eb5-b393-4e16-a206-07ac74cb875e",
   "metadata": {},
   "outputs": [
    {
     "name": "stdout",
     "output_type": "stream",
     "text": [
      "X_train shape: (201, 29)\n",
      "X_test shape: (51, 29)\n",
      "y_train shape: (201,)\n",
      "y_test shape: (51,)\n"
     ]
    }
   ],
   "source": [
    "print(\"X_train shape:\", X_train.shape)\n",
    "print(\"X_test shape:\", X_test.shape)\n",
    "print(\"y_train shape:\", y_train.shape)\n",
    "print(\"y_test shape:\", y_test.shape)\n"
   ]
  },
  {
   "cell_type": "code",
   "execution_count": 23,
   "id": "1d0cc491-4a9d-4085-bf1f-ea6c4ce9ac14",
   "metadata": {},
   "outputs": [
    {
     "name": "stdout",
     "output_type": "stream",
     "text": [
      "Predictions: [0 3 2 3 0 2 0 0 3 2]\n"
     ]
    }
   ],
   "source": [
    "y_pred = model.predict(X_test)\n",
    "print(\"Predictions:\", y_pred[:10])  # Print the first 10 predictions\n"
   ]
  },
  {
   "cell_type": "code",
   "execution_count": 24,
   "id": "a9b2573f-8876-44af-8540-9e368e79988f",
   "metadata": {},
   "outputs": [
    {
     "name": "stdout",
     "output_type": "stream",
     "text": [
      "Price                       Adj Close                                      \\\n",
      "Ticker                           AAPL        AMZN       GOOGL        MSFT   \n",
      "Date                                                                        \n",
      "2023-10-25 00:00:00+00:00  170.228928  121.389999  125.299736  338.131989   \n",
      "2023-10-26 00:00:00+00:00  166.040344  119.570000  121.977966  325.447205   \n",
      "2023-10-27 00:00:00+00:00  167.363586  127.739998  121.868233  327.352875   \n",
      "2023-10-30 00:00:00+00:00  169.423035  132.710007  124.152580  334.796997   \n",
      "2023-10-31 00:00:00+00:00  169.900620  133.089996  123.773521  335.591034   \n",
      "\n",
      "Price                                       Close                          \\\n",
      "Ticker                           TSLA        AAPL        AMZN       GOOGL   \n",
      "Date                                                                        \n",
      "2023-10-25 00:00:00+00:00  212.419998  171.100006  121.389999  125.610001   \n",
      "2023-10-26 00:00:00+00:00  205.759995  166.889999  119.570000  122.279999   \n",
      "2023-10-27 00:00:00+00:00  207.300003  168.220001  127.739998  122.169998   \n",
      "2023-10-30 00:00:00+00:00  197.360001  170.289993  132.710007  124.459999   \n",
      "2023-10-31 00:00:00+00:00  200.839996  170.770004  133.089996  124.080002   \n",
      "\n",
      "Price                                              ...        Open  \\\n",
      "Ticker                           MSFT        TSLA  ...        AAPL   \n",
      "Date                                               ...               \n",
      "2023-10-25 00:00:00+00:00  340.670013  212.419998  ...  171.880005   \n",
      "2023-10-26 00:00:00+00:00  327.890015  205.759995  ...  170.369995   \n",
      "2023-10-27 00:00:00+00:00  329.809998  207.300003  ...  166.910004   \n",
      "2023-10-30 00:00:00+00:00  337.309998  197.360001  ...  169.020004   \n",
      "2023-10-31 00:00:00+00:00  338.109985  200.839996  ...  169.350006   \n",
      "\n",
      "Price                                                                      \\\n",
      "Ticker                           AMZN       GOOGL        MSFT        TSLA   \n",
      "Date                                                                        \n",
      "2023-10-25 00:00:00+00:00  126.040001  128.160004  345.019989  215.880005   \n",
      "2023-10-26 00:00:00+00:00  120.629997  123.269997  340.540009  211.320007   \n",
      "2023-10-27 00:00:00+00:00  126.199997  122.879997  330.429993  210.600006   \n",
      "2023-10-30 00:00:00+00:00  129.720001  123.209999  333.410004  209.279999   \n",
      "2023-10-31 00:00:00+00:00  132.750000  125.059998  338.850006  196.119995   \n",
      "\n",
      "Price                        Volume                                            \n",
      "Ticker                         AAPL       AMZN     GOOGL      MSFT       TSLA  \n",
      "Date                                                                           \n",
      "2023-10-25 00:00:00+00:00  57157000   74577500  84366200  55053800  107065100  \n",
      "2023-10-26 00:00:00+00:00  70625300  100419500  57061100  37828500  115112600  \n",
      "2023-10-27 00:00:00+00:00  58499100  125309300  44566500  29856500   94881200  \n",
      "2023-10-30 00:00:00+00:00  51131000   72485500  28940100  22828100  136448200  \n",
      "2023-10-31 00:00:00+00:00  44846000   51589400  26292300  20265300  118068300  \n",
      "\n",
      "[5 rows x 30 columns]\n"
     ]
    }
   ],
   "source": [
    "print(esg_data.head())  # Print the first few rows of the data\n"
   ]
  },
  {
   "cell_type": "code",
   "execution_count": 29,
   "id": "8ff39674-f5a6-43a1-9077-4bc362761391",
   "metadata": {},
   "outputs": [
    {
     "name": "stdout",
     "output_type": "stream",
     "text": [
      "Fitting 3 folds for each of 324 candidates, totalling 972 fits\n",
      "Best parameters: {'max_depth': 10, 'max_features': 'sqrt', 'min_samples_leaf': 1, 'min_samples_split': 2, 'n_estimators': 100}\n"
     ]
    }
   ],
   "source": [
    "from sklearn.model_selection import GridSearchCV\n",
    "\n",
    "param_grid = {\n",
    "    'n_estimators': [100, 200, 300],\n",
    "    'max_features': ['sqrt', 'log2', None],  # Corrected values\n",
    "    'max_depth': [10, 20, 30, None],\n",
    "    'min_samples_split': [2, 5, 10],\n",
    "    'min_samples_leaf': [1, 2, 4]\n",
    "}\n",
    "\n",
    "grid_search = GridSearchCV(estimator=model, param_grid=param_grid, cv=3, n_jobs=-1, verbose=2)\n",
    "grid_search.fit(X_train, y_train)\n",
    "print(f'Best parameters: {grid_search.best_params_}')\n"
   ]
  },
  {
   "cell_type": "code",
   "execution_count": 30,
   "id": "00d69db3-1036-4bb8-9bfa-c49649ef90cb",
   "metadata": {},
   "outputs": [
    {
     "name": "stdout",
     "output_type": "stream",
     "text": [
      "XGBoost Accuracy: 54.90%\n"
     ]
    }
   ],
   "source": [
    "from xgboost import XGBClassifier\n",
    "\n",
    "xgb_model = XGBClassifier()\n",
    "xgb_model.fit(X_train, y_train)\n",
    "xgb_y_pred = xgb_model.predict(X_test)\n",
    "xgb_accuracy = accuracy_score(y_test, xgb_y_pred)\n",
    "print(f'XGBoost Accuracy: {xgb_accuracy * 100:.2f}%')\n"
   ]
  },
  {
   "cell_type": "code",
   "execution_count": 31,
   "id": "2623a56c-410d-4aee-872e-d4d7f0b29f2c",
   "metadata": {},
   "outputs": [
    {
     "name": "stdout",
     "output_type": "stream",
     "text": [
      "Cross-Validation Accuracy: 22.20%\n"
     ]
    }
   ],
   "source": [
    "from sklearn.model_selection import cross_val_score\n",
    "\n",
    "cv_scores = cross_val_score(model, X, y, cv=5)\n",
    "print(f'Cross-Validation Accuracy: {np.mean(cv_scores) * 100:.2f}%')\n"
   ]
  },
  {
   "cell_type": "code",
   "execution_count": 32,
   "id": "f01a2c2b-6a50-4360-9ec1-97f062bdd4e3",
   "metadata": {},
   "outputs": [
    {
     "name": "stdout",
     "output_type": "stream",
     "text": [
      "Confusion Matrix:\n",
      " [[10  1  1  0]\n",
      " [ 3  4  2  1]\n",
      " [ 1  2  7  2]\n",
      " [ 2  1  5  9]]\n"
     ]
    },
    {
     "data": {
      "image/png": "[encoded data removed]",
      "text/plain": [
       "<Figure size 640x480 with 2 Axes>"
      ]
     },
     "metadata": {},
     "output_type": "display_data"
    }
   ],
   "source": [
    "from sklearn.metrics import confusion_matrix\n",
    "import seaborn as sns\n",
    "import matplotlib.pyplot as plt\n",
    "\n",
    "cm = confusion_matrix(y_test, y_pred)\n",
    "print(\"Confusion Matrix:\\n\", cm)  # Print the confusion matrix\n",
    "sns.heatmap(cm, annot=True, fmt='d', cmap='Blues')\n",
    "plt.xlabel('Predicted')\n",
    "plt.ylabel('Actual')\n",
    "plt.title('Confusion Matrix')\n",
    "plt.show()\n"
   ]
  },
  {
   "cell_type": "code",
   "execution_count": 33,
   "id": "8a548b93-55c9-44ae-852d-555900c12ae2",
   "metadata": {},
   "outputs": [
    {
     "name": "stdout",
     "output_type": "stream",
     "text": [
      "Classification Report:\n",
      "               precision    recall  f1-score   support\n",
      "\n",
      "           0       0.62      0.83      0.71        12\n",
      "           1       0.50      0.40      0.44        10\n",
      "           2       0.47      0.58      0.52        12\n",
      "           3       0.75      0.53      0.62        17\n",
      "\n",
      "    accuracy                           0.59        51\n",
      "   macro avg       0.59      0.59      0.57        51\n",
      "weighted avg       0.60      0.59      0.58        51\n",
      "\n"
     ]
    }
   ],
   "source": [
    "from sklearn.metrics import classification_report\n",
    "\n",
    "report = classification_report(y_test, y_pred)\n",
    "print(\"Classification Report:\\n\", report)  # Print the classification report\n"
   ]
  }
 ],
 "metadata": {
  "kernelspec": {
   "display_name": "Python 3 (ipykernel)",
   "language": "python",
   "name": "python3"
  },
  "language_info": {
   "codemirror_mode": {
    "name": "ipython",
    "version": 3
   },
   "file_extension": ".py",
   "mimetype": "text/x-python",
   "name": "python",
   "nbconvert_exporter": "python",
   "pygments_lexer": "ipython3",
   "version": "3.12.3"
  }
 },
 "nbformat": 4,
 "nbformat_minor": 5
}

{
 "cells": [
  {
   "cell_type": "code",
   "execution_count": 1,
   "id": "60f39bf5-2b8e-4f25-9cf7-465ab3f10c25",
   "metadata": {},
   "outputs": [
    {
     "name": "stderr",
     "output_type": "stream",
     "text": [
      "[*********************100%***********************]  4 of 4 completed"
     ]
    },
    {
     "name": "stdout",
     "output_type": "stream",
     "text": [
      "Ticker                          AAPL       AMZN      GOOGL        MSFT\n",
      "Date                                                                  \n",
      "2020-01-02 00:00:00+00:00  72.876114  94.900497  68.264961  153.938202\n",
      "2020-01-03 00:00:00+00:00  72.167595  93.748497  67.907852  152.021393\n",
      "2020-01-06 00:00:00+00:00  72.742661  95.143997  69.717865  152.414352\n",
      "2020-01-07 00:00:00+00:00  72.400536  95.343002  69.583206  151.024673\n",
      "2020-01-08 00:00:00+00:00  73.565186  94.598503  70.078476  153.430252\n"
     ]
    },
    {
     "name": "stderr",
     "output_type": "stream",
     "text": [
      "\n"
     ]
    }
   ],
   "source": [
    "import yfinance as yf\n",
    "import pandas as pd\n",
    "\n",
    "# Fetch historical data for a set of stocks\n",
    "tickers = ['AAPL', 'MSFT', 'GOOGL', 'AMZN']\n",
    "data = yf.download(tickers, start='2020-01-01', end='2023-01-01')['Adj Close']\n",
    "\n",
    "# Display the first few rows of the data\n",
    "print(data.head())\n"
   ]
  },
  {
   "cell_type": "code",
   "execution_count": 2,
   "id": "fc5eba46-6acd-4325-8125-73ba1770a937",
   "metadata": {},
   "outputs": [
    {
     "name": "stdout",
     "output_type": "stream",
     "text": [
      "(0, 0): ───H───M('result')───\n",
      "               │\n",
      "(0, 1): ───H───M─────────────\n",
      "               │\n",
      "(0, 2): ───H───M─────────────\n",
      "               │\n",
      "(0, 3): ───H───M─────────────\n"
     ]
    }
   ],
   "source": [
    "import numpy as np\n",
    "import cirq\n",
    "\n",
    "# Calculate expected returns and covariance matrix\n",
    "returns = data.pct_change().mean().values\n",
    "cov_matrix = data.pct_change().cov().values\n",
    "\n",
    "# Define the number of assets\n",
    "num_assets = len(tickers)\n",
    "\n",
    "# Create qubits\n",
    "qubits = [cirq.GridQubit(0, i) for i in range(num_assets)]\n",
    "\n",
    "# Create a circuit\n",
    "circuit = cirq.Circuit()\n",
    "\n",
    "# Add gates to the circuit (example: Hadamard gates)\n",
    "for qubit in qubits:\n",
    "    circuit.append(cirq.H(qubit))\n",
    "\n",
    "# Add measurement\n",
    "circuit.append(cirq.measure(*qubits, key='result'))\n",
    "\n",
    "# Display the circuit\n",
    "print(circuit)\n"
   ]
  },
  {
   "cell_type": "code",
   "execution_count": 3,
   "id": "1bf7ac58-8ddf-4176-8749-707bad693643",
   "metadata": {},
   "outputs": [
    {
     "name": "stdout",
     "output_type": "stream",
     "text": [
      "Counter({7: 76, 10: 69, 3: 68, 1: 67, 12: 65, 13: 64, 15: 64, 11: 62, 14: 62, 8: 61, 6: 60, 5: 60, 4: 59, 0: 55, 2: 54, 9: 54})\n"
     ]
    }
   ],
   "source": [
    "# Simulate the circuit\n",
    "simulator = cirq.Simulator()\n",
    "result = simulator.run(circuit, repetitions=1000)\n",
    "\n",
    "# Extract the results\n",
    "histogram = result.histogram(key='result')\n",
    "print(histogram)\n"
   ]
  },
  {
   "cell_type": "code",
   "execution_count": 4,
   "id": "99a9e2e6-a67b-48f3-b3a0-b4a600023c6f",
   "metadata": {},
   "outputs": [
    {
     "name": "stdout",
     "output_type": "stream",
     "text": [
      "{7: 0.076, 6: 0.06, 4: 0.059, 2: 0.054, 11: 0.062, 13: 0.064, 10: 0.069, 9: 0.054, 14: 0.062, 1: 0.067, 12: 0.065, 8: 0.061, 0: 0.055, 3: 0.068, 5: 0.06, 15: 0.064}\n"
     ]
    }
   ],
   "source": [
    "# Convert the histogram to a probability distribution\n",
    "probabilities = {k: v / 1000 for k, v in histogram.items()}\n",
    "\n",
    "# Display the probabilities\n",
    "print(probabilities)\n"
   ]
  },
  {
   "cell_type": "code",
   "execution_count": 5,
   "id": "b301908a-6c91-4b8e-893c-49d98fe38858",
   "metadata": {},
   "outputs": [],
   "source": [
    "def portfolio_cost(portfolio, returns, cov_matrix, risk_aversion=0.5):\n",
    "    # Calculate expected return\n",
    "    expected_return = np.dot(portfolio, returns)\n",
    "    \n",
    "    # Calculate risk (variance)\n",
    "    risk = np.dot(portfolio.T, np.dot(cov_matrix, portfolio))\n",
    "    \n",
    "    # Cost function (to be minimized)\n",
    "    cost = risk_aversion * risk - (1 - risk_aversion) * expected_return\n",
    "    return cost\n"
   ]
  },
  {
   "cell_type": "code",
   "execution_count": 7,
   "id": "2bc322e1-fe17-4be9-b638-82d4a2a4786b",
   "metadata": {},
   "outputs": [
    {
     "name": "stdout",
     "output_type": "stream",
     "text": [
      "Portfolio: [0, 1, 1, 1], Cost: 0.0011553292688463793\n",
      "Portfolio: [0, 1, 1, 0], Cost: 0.0005463060674847043\n",
      "Portfolio: [0, 1, 0, 0], Cost: 0.00023254026749435565\n",
      "Portfolio: [0, 0, 1, 0], Cost: -5.005325913977042e-05\n",
      "Portfolio: [1, 0, 1, 1], Cost: 0.0007225020692405337\n",
      "Portfolio: [1, 1, 0, 1], Cost: 0.000998173930507132\n",
      "Portfolio: [1, 0, 1, 0], Cost: 7.825586185456661e-05\n",
      "Portfolio: [1, 0, 0, 1], Cost: 7.651755595266489e-06\n",
      "Portfolio: [1, 1, 1, 0], Cost: 0.0010545082139368812\n",
      "Portfolio: [0, 0, 0, 1], Cost: -0.00016438366341269787\n",
      "Portfolio: [1, 1, 0, 0], Cost: 0.00037115682397619823\n",
      "Portfolio: [1, 0, 0, 0], Cost: -0.00024127646897599737\n",
      "Portfolio: [0, 0, 0, 0], Cost: 0.0\n",
      "Portfolio: [0, 0, 1, 1], Cost: 0.0001808810602622348\n",
      "Portfolio: [0, 1, 0, 1], Cost: 0.00044624548604132764\n",
      "Portfolio: [1, 1, 1, 1], Cost: 0.002076843303282518\n"
     ]
    }
   ],
   "source": [
    "def portfolio_cost(portfolio, returns, cov_matrix, risk_aversion=0.5):\n",
    "    # Convert portfolio to a NumPy array\n",
    "    portfolio = np.array(portfolio)\n",
    "    \n",
    "    # Calculate expected return\n",
    "    expected_return = np.dot(portfolio, returns)\n",
    "    \n",
    "    # Calculate risk (variance)\n",
    "    risk = np.dot(portfolio.T, np.dot(cov_matrix, portfolio))\n",
    "    \n",
    "    # Cost function (to be minimized)\n",
    "    cost = risk_aversion * risk - (1 - risk_aversion) * expected_return\n",
    "    return cost\n",
    "\n",
    "# Convert binary outcomes to portfolio configurations\n",
    "portfolios = [list(map(int, f\"{k:04b}\")) for k in probabilities.keys()]\n",
    "\n",
    "# Evaluate the cost for each portfolio\n",
    "costs = [portfolio_cost(portfolio, returns, cov_matrix) for portfolio in portfolios]\n",
    "\n",
    "# Combine portfolios with their costs\n",
    "portfolio_costs = list(zip(portfolios, costs))\n",
    "\n",
    "# Display the portfolio costs\n",
    "for portfolio, cost in portfolio_costs:\n",
    "    print(f\"Portfolio: {portfolio}, Cost: {cost}\")\n"
   ]
  },
  {
   "cell_type": "code",
   "execution_count": 8,
   "id": "8160de5b-6aac-4c95-8893-6809c2f65584",
   "metadata": {},
   "outputs": [
    {
     "name": "stdout",
     "output_type": "stream",
     "text": [
      "Optimal Portfolio: [1, 0, 0, 0], Cost: -0.00024127646897599737\n"
     ]
    }
   ],
   "source": [
    "# Find the portfolio with the minimum cost\n",
    "optimal_portfolio = min(portfolio_costs, key=lambda x: x[1])\n",
    "print(f\"Optimal Portfolio: {optimal_portfolio[0]}, Cost: {optimal_portfolio[1]}\")\n"
   ]
  },
  {
   "cell_type": "code",
   "execution_count": 9,
   "id": "fa84109b-a5a7-44ea-9b34-7697d66d3a1c",
   "metadata": {},
   "outputs": [
    {
     "data": {
      "image/png": "[encoded data removed]",
      "text/plain": [
       "<Figure size 1000x600 with 1 Axes>"
      ]
     },
     "metadata": {},
     "output_type": "display_data"
    }
   ],
   "source": [
    "import matplotlib.pyplot as plt\n",
    "\n",
    "# Plot the costs of different portfolios\n",
    "portfolio_labels = [''.join(map(str, p)) for p, _ in portfolio_costs]\n",
    "cost_values = [c for _, c in portfolio_costs]\n",
    "\n",
    "plt.figure(figsize=(10, 6))\n",
    "plt.bar(portfolio_labels, cost_values)\n",
    "plt.xlabel('Portfolio Configuration')\n",
    "plt.ylabel('Cost')\n",
    "plt.title('Portfolio Optimization Costs')\n",
    "plt.show()\n"
   ]
  },
  {
   "cell_type": "code",
   "execution_count": null,
   "id": "8edbda74-172e-4af4-922b-44765e3d8c26",
   "metadata": {},
   "outputs": [],
   "source": []
  }
 ],
 "metadata": {
  "kernelspec": {
   "display_name": "Python 3 (ipykernel)",
   "language": "python",
   "name": "python3"
  },
  "language_info": {
   "codemirror_mode": {
    "name": "ipython",
    "version": 3
   },
   "file_extension": ".py",
   "mimetype": "text/x-python",
   "name": "python",
   "nbconvert_exporter": "python",
   "pygments_lexer": "ipython3",
   "version": "3.9.20"
  }
 },
 "nbformat": 4,
 "nbformat_minor": 5
}

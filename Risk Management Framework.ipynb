{
 "cells": [
  {
   "cell_type": "code",
   "execution_count": 1,
   "id": "cdb8c414-60ea-4863-bbca-b9cd8a9a8255",
   "metadata": {},
   "outputs": [
    {
     "name": "stdout",
     "output_type": "stream",
     "text": [
      "     Risk Type                Risk\n",
      "0       Market  Interest Rate Risk\n",
      "1       Market   Equity Price Risk\n",
      "2       Credit        Default Risk\n",
      "3       Credit  Credit Spread Risk\n",
      "4  Operational      System Failure\n",
      "5  Operational               Fraud\n"
     ]
    }
   ],
   "source": [
    "import pandas as pd\n",
    "\n",
    "# Define the risks\n",
    "risks = {\n",
    "    'Risk Type': ['Market', 'Market', 'Credit', 'Credit', 'Operational', 'Operational'],\n",
    "    'Risk': ['Interest Rate Risk', 'Equity Price Risk', 'Default Risk', 'Credit Spread Risk', 'System Failure', 'Fraud']\n",
    "}\n",
    "\n",
    "# Create a DataFrame\n",
    "risk_df = pd.DataFrame(risks)\n",
    "print(risk_df)\n"
   ]
  },
  {
   "cell_type": "code",
   "execution_count": 2,
   "id": "be9d2af9-4a59-416b-a95f-eefc539ac6d8",
   "metadata": {},
   "outputs": [
    {
     "name": "stdout",
     "output_type": "stream",
     "text": [
      "     Risk Type                Risk  Likelihood  Impact  Risk Score\n",
      "0       Market  Interest Rate Risk         0.3     0.5        0.15\n",
      "1       Market   Equity Price Risk         0.4     0.6        0.24\n",
      "2       Credit        Default Risk         0.2     0.7        0.14\n",
      "3       Credit  Credit Spread Risk         0.3     0.5        0.15\n",
      "4  Operational      System Failure         0.1     0.8        0.08\n",
      "5  Operational               Fraud         0.2     0.9        0.18\n"
     ]
    }
   ],
   "source": [
    "# Define risk likelihood and impact\n",
    "risk_df['Likelihood'] = [0.3, 0.4, 0.2, 0.3, 0.1, 0.2]\n",
    "risk_df['Impact'] = [0.5, 0.6, 0.7, 0.5, 0.8, 0.9]\n",
    "\n",
    "# Calculate Risk Score\n",
    "risk_df['Risk Score'] = risk_df['Likelihood'] * risk_df['Impact']\n",
    "print(risk_df)\n"
   ]
  },
  {
   "cell_type": "code",
   "execution_count": 3,
   "id": "d6ea5a71-240b-4b6b-9cdc-fc6533125502",
   "metadata": {},
   "outputs": [
    {
     "name": "stdout",
     "output_type": "stream",
     "text": [
      "Value-at-Risk (95% confidence): -0.15\n"
     ]
    }
   ],
   "source": [
    "import numpy as np\n",
    "\n",
    "# Simulate returns\n",
    "np.random.seed(42)\n",
    "returns = np.random.normal(0, 0.1, 1000)\n",
    "\n",
    "# Calculate VaR at 95% confidence level\n",
    "VaR_95 = np.percentile(returns, 5)\n",
    "print(f\"Value-at-Risk (95% confidence): {VaR_95:.2f}\")\n"
   ]
  },
  {
   "cell_type": "code",
   "execution_count": 4,
   "id": "aef70f55-bf38-408b-8361-7063dc8efcdb",
   "metadata": {},
   "outputs": [
    {
     "name": "stdout",
     "output_type": "stream",
     "text": [
      "     Risk Type                Risk  Likelihood  Impact  Risk Score\n",
      "1       Market   Equity Price Risk         0.4     0.6        0.24\n",
      "5  Operational               Fraud         0.2     0.9        0.18\n",
      "0       Market  Interest Rate Risk         0.3     0.5        0.15\n",
      "3       Credit  Credit Spread Risk         0.3     0.5        0.15\n",
      "2       Credit        Default Risk         0.2     0.7        0.14\n",
      "4  Operational      System Failure         0.1     0.8        0.08\n"
     ]
    }
   ],
   "source": [
    "# Sort risks by Risk Score\n",
    "prioritized_risks = risk_df.sort_values(by='Risk Score', ascending=False)\n",
    "print(prioritized_risks)\n"
   ]
  },
  {
   "cell_type": "code",
   "execution_count": 5,
   "id": "93ab197b-46ff-4dd2-b67d-efbdefb533d8",
   "metadata": {},
   "outputs": [
    {
     "name": "stdout",
     "output_type": "stream",
     "text": [
      "     Risk Type                Risk  Likelihood  Impact  Risk Score  \\\n",
      "0       Market  Interest Rate Risk         0.3     0.5        0.15   \n",
      "1       Market   Equity Price Risk         0.4     0.6        0.24   \n",
      "2       Credit        Default Risk         0.2     0.7        0.14   \n",
      "3       Credit  Credit Spread Risk         0.3     0.5        0.15   \n",
      "4  Operational      System Failure         0.1     0.8        0.08   \n",
      "5  Operational               Fraud         0.2     0.9        0.18   \n",
      "\n",
      "                     Mitigation Strategy  \n",
      "0                    Interest rate swaps  \n",
      "1               Hedging with derivatives  \n",
      "2                       Credit insurance  \n",
      "3                        Diversification  \n",
      "4                 Disaster recovery plan  \n",
      "5  Implementing robust internal controls  \n"
     ]
    }
   ],
   "source": [
    "# Define mitigation strategies\n",
    "mitigation_strategies = {\n",
    "    'Equity Price Risk': 'Hedging with derivatives',\n",
    "    'Fraud': 'Implementing robust internal controls',\n",
    "    'Interest Rate Risk': 'Interest rate swaps',\n",
    "    'Credit Spread Risk': 'Diversification',\n",
    "    'Default Risk': 'Credit insurance',\n",
    "    'System Failure': 'Disaster recovery plan'\n",
    "}\n",
    "\n",
    "# Add strategies to DataFrame\n",
    "risk_df['Mitigation Strategy'] = risk_df['Risk'].map(mitigation_strategies)\n",
    "print(risk_df)\n"
   ]
  },
  {
   "cell_type": "code",
   "execution_count": 6,
   "id": "99f3ff81-15d1-44d8-bdc9-cd4171c9b715",
   "metadata": {},
   "outputs": [
    {
     "name": "stdout",
     "output_type": "stream",
     "text": [
      "     Risk Type                Risk  Likelihood  Impact  Risk Score  \\\n",
      "0       Market  Interest Rate Risk         0.3     0.5        0.15   \n",
      "1       Market   Equity Price Risk         0.4     0.6        0.24   \n",
      "2       Credit        Default Risk         0.2     0.7        0.14   \n",
      "3       Credit  Credit Spread Risk         0.3     0.5        0.15   \n",
      "4  Operational      System Failure         0.1     0.8        0.08   \n",
      "5  Operational               Fraud         0.2     0.9        0.18   \n",
      "\n",
      "                     Mitigation Strategy  \\\n",
      "0                    Interest rate swaps   \n",
      "1               Hedging with derivatives   \n",
      "2                       Credit insurance   \n",
      "3                        Diversification   \n",
      "4                 Disaster recovery plan   \n",
      "5  Implementing robust internal controls   \n",
      "\n",
      "                                Implementation Steps  \n",
      "0          Enter into interest rate swap agreements.  \n",
      "1  Execute hedging strategy using options and fut...  \n",
      "2  Purchase credit insurance for high-risk exposu...  \n",
      "3  Rebalance portfolio to diversify credit exposure.  \n",
      "4           Develop and test disaster recovery plan.  \n",
      "5      Conduct regular audits and employee training.  \n"
     ]
    }
   ],
   "source": [
    "# Define implementation steps\n",
    "implementation_steps = {\n",
    "    'Equity Price Risk': 'Execute hedging strategy using options and futures.',\n",
    "    'Fraud': 'Conduct regular audits and employee training.',\n",
    "    'Interest Rate Risk': 'Enter into interest rate swap agreements.',\n",
    "    'Credit Spread Risk': 'Rebalance portfolio to diversify credit exposure.',\n",
    "    'Default Risk': 'Purchase credit insurance for high-risk exposures.',\n",
    "    'System Failure': 'Develop and test disaster recovery plan.'\n",
    "}\n",
    "\n",
    "# Add implementation steps to DataFrame\n",
    "risk_df['Implementation Steps'] = risk_df['Risk'].map(implementation_steps)\n",
    "print(risk_df)\n"
   ]
  },
  {
   "cell_type": "code",
   "execution_count": 7,
   "id": "a8b5c924-bbac-46dc-9156-26908317dd66",
   "metadata": {},
   "outputs": [
    {
     "name": "stdout",
     "output_type": "stream",
     "text": [
      "     Risk Type                Risk  Likelihood  Impact  Risk Score  \\\n",
      "0       Market  Interest Rate Risk         0.3     0.5        0.15   \n",
      "1       Market   Equity Price Risk         0.4     0.6        0.24   \n",
      "2       Credit        Default Risk         0.2     0.7        0.14   \n",
      "3       Credit  Credit Spread Risk         0.3     0.5        0.15   \n",
      "4  Operational      System Failure         0.1     0.8        0.08   \n",
      "5  Operational               Fraud         0.2     0.9        0.18   \n",
      "\n",
      "                     Mitigation Strategy  \\\n",
      "0                    Interest rate swaps   \n",
      "1               Hedging with derivatives   \n",
      "2                       Credit insurance   \n",
      "3                        Diversification   \n",
      "4                 Disaster recovery plan   \n",
      "5  Implementing robust internal controls   \n",
      "\n",
      "                                Implementation Steps  \\\n",
      "0          Enter into interest rate swap agreements.   \n",
      "1  Execute hedging strategy using options and fut...   \n",
      "2  Purchase credit insurance for high-risk exposu...   \n",
      "3  Rebalance portfolio to diversify credit exposure.   \n",
      "4           Develop and test disaster recovery plan.   \n",
      "5      Conduct regular audits and employee training.   \n",
      "\n",
      "                         Risk Metrics  \n",
      "0                 Duration, Convexity  \n",
      "1                           VaR, Beta  \n",
      "2         Default rate, Recovery rate  \n",
      "3  Credit spread, Default probability  \n",
      "4    Downtime, Incident response time  \n",
      "5    Number of incidents, Loss amount  \n"
     ]
    }
   ],
   "source": [
    "# Define risk metrics\n",
    "risk_metrics = {\n",
    "    'Equity Price Risk': 'VaR, Beta',\n",
    "    'Fraud': 'Number of incidents, Loss amount',\n",
    "    'Interest Rate Risk': 'Duration, Convexity',\n",
    "    'Credit Spread Risk': 'Credit spread, Default probability',\n",
    "    'Default Risk': 'Default rate, Recovery rate',\n",
    "    'System Failure': 'Downtime, Incident response time'\n",
    "}\n",
    "\n",
    "# Add metrics to DataFrame\n",
    "risk_df['Risk Metrics'] = risk_df['Risk'].map(risk_metrics)\n",
    "print(risk_df)\n"
   ]
  },
  {
   "cell_type": "code",
   "execution_count": 8,
   "id": "ad78a982-5d49-4b4c-87d9-11ed5048b242",
   "metadata": {},
   "outputs": [
    {
     "name": "stdout",
     "output_type": "stream",
     "text": [
      "        Step                                        Description\n",
      "0  Frequency                                  Quarterly reviews\n",
      "1   Feedback                  Gather feedback from stakeholders\n",
      "2     Update  Update framework based on new risks and changi...\n"
     ]
    }
   ],
   "source": [
    "# Define review and improvement steps\n",
    "review_steps = {\n",
    "    'Frequency': 'Quarterly reviews',\n",
    "    'Feedback': 'Gather feedback from stakeholders',\n",
    "    'Update': 'Update framework based on new risks and changing conditions'\n",
    "}\n",
    "\n",
    "# Create a DataFrame for review steps\n",
    "review_df = pd.DataFrame(list(review_steps.items()), columns=['Step', 'Description'])\n",
    "print(review_df)\n"
   ]
  },
  {
   "cell_type": "code",
   "execution_count": null,
   "id": "c6a8858c-a36c-4ba1-aaf5-36173c2a2295",
   "metadata": {},
   "outputs": [],
   "source": []
  }
 ],
 "metadata": {
  "kernelspec": {
   "display_name": "Python 3 (ipykernel)",
   "language": "python",
   "name": "python3"
  },
  "language_info": {
   "codemirror_mode": {
    "name": "ipython",
    "version": 3
   },
   "file_extension": ".py",
   "mimetype": "text/x-python",
   "name": "python",
   "nbconvert_exporter": "python",
   "pygments_lexer": "ipython3",
   "version": "3.9.20"
  }
 },
 "nbformat": 4,
 "nbformat_minor": 5
}

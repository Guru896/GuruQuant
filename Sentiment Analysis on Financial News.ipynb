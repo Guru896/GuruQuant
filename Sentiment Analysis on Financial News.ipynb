{
 "cells": [
  {
   "cell_type": "code",
   "execution_count": 9,
   "id": "f607af70-210e-4af4-8f57-b13d719a66b1",
   "metadata": {},
   "outputs": [
    {
     "name": "stdout",
     "output_type": "stream",
     "text": [
      "Thank you for your patience. Our engineers are working quickly to resolve the issue.\n"
     ]
    }
   ],
   "source": [
    "import requests\n",
    "from bs4 import BeautifulSoup\n",
    "import pandas as pd\n",
    "\n",
    "# List of URLs of financial news articles\n",
    "urls = [\n",
    "    'https://finance.yahoo.com/news/stock-market-news-live-updates-2023-10-20',\n",
    "    'https://www.cnbc.com/2023/10/20/stock-market-today.html',\n",
    "    # Add more URLs as needed\n",
    "]\n",
    "\n",
    "# Function to scrape articles using BeautifulSoup\n",
    "def scrape_articles_bs4(urls):\n",
    "    articles = []\n",
    "    for url in urls:\n",
    "        try:\n",
    "            response = requests.get(url)\n",
    "            soup = BeautifulSoup(response.content, 'html.parser')\n",
    "            paragraphs = soup.find_all('p')\n",
    "            article_text = ' '.join([para.get_text() for para in paragraphs])\n",
    "            articles.append(article_text)\n",
    "        except Exception as e:\n",
    "            print(f\"Error processing {url}: {e}\")\n",
    "    return articles\n",
    "\n",
    "# Scrape the articles\n",
    "articles_bs4 = scrape_articles_bs4(urls)\n",
    "\n",
    "# Display the first article\n",
    "print(articles_bs4[0])\n"
   ]
  },
  {
   "cell_type": "code",
   "execution_count": 10,
   "id": "87830e48-8890-4041-9333-50e5bed6bdab",
   "metadata": {},
   "outputs": [
    {
     "name": "stderr",
     "output_type": "stream",
     "text": [
      "[nltk_data] Downloading package punkt to C:\\Users\\GURUDEEP\n",
      "[nltk_data]     SINGH\\AppData\\Roaming\\nltk_data...\n",
      "[nltk_data]   Package punkt is already up-to-date!\n",
      "[nltk_data] Downloading package stopwords to C:\\Users\\GURUDEEP\n",
      "[nltk_data]     SINGH\\AppData\\Roaming\\nltk_data...\n",
      "[nltk_data]   Package stopwords is already up-to-date!\n"
     ]
    },
    {
     "name": "stdout",
     "output_type": "stream",
     "text": [
      "Thank patience . engineers working quickly resolve issue .\n"
     ]
    }
   ],
   "source": [
    "import nltk\n",
    "from nltk.corpus import stopwords\n",
    "from nltk.tokenize import word_tokenize\n",
    "\n",
    "# Download NLTK data\n",
    "nltk.download('punkt')\n",
    "nltk.download('stopwords')\n",
    "\n",
    "# Function to preprocess text\n",
    "def preprocess_text(text):\n",
    "    # Tokenize the text\n",
    "    words = word_tokenize(text)\n",
    "    # Remove stopwords\n",
    "    words = [word for word in words if word.lower() not in stopwords.words('english')]\n",
    "    return ' '.join(words)\n",
    "\n",
    "# Preprocess the articles\n",
    "preprocessed_articles = [preprocess_text(article) for article in articles_bs4]\n",
    "\n",
    "# Display the first preprocessed article\n",
    "print(preprocessed_articles[0])\n"
   ]
  },
  {
   "cell_type": "code",
   "execution_count": 11,
   "id": "4035f87c-3293-4d09-95aa-b337b3ce5105",
   "metadata": {},
   "outputs": [
    {
     "name": "stdout",
     "output_type": "stream",
     "text": [
      "[0.3333333333333333, 0.5527157001414426]\n"
     ]
    }
   ],
   "source": [
    "from textblob import TextBlob\n",
    "\n",
    "# Function to analyze sentiment\n",
    "def analyze_sentiment(text):\n",
    "    blob = TextBlob(text)\n",
    "    return blob.sentiment.polarity\n",
    "\n",
    "# Analyze the sentiment of the articles\n",
    "sentiments = [analyze_sentiment(article) for article in preprocessed_articles]\n",
    "\n",
    "# Display the sentiment scores\n",
    "print(sentiments)\n"
   ]
  },
  {
   "cell_type": "code",
   "execution_count": 12,
   "id": "7283fdd3-cedc-4f41-a043-8704af259991",
   "metadata": {},
   "outputs": [
    {
     "name": "stderr",
     "output_type": "stream",
     "text": [
      "[*********************100%***********************]  1 of 1 completed"
     ]
    },
    {
     "name": "stdout",
     "output_type": "stream",
     "text": [
      "                 Date       Close  Sentiment\n",
      "Date                                        \n",
      "2023-10-02 2023-10-02  321.799988   0.333333\n",
      "2023-10-03 2023-10-03  313.390015   0.552716\n",
      "Correlation between sentiment and stock price: -0.9999999999999999\n"
     ]
    },
    {
     "name": "stderr",
     "output_type": "stream",
     "text": [
      "\n"
     ]
    }
   ],
   "source": [
    "import yfinance as yf\n",
    "\n",
    "# Download historical stock price data for a specific stock (e.g., MSFT)\n",
    "ticker = 'MSFT'\n",
    "stock_data = yf.download(ticker, start='2023-10-01', end='2023-10-20')\n",
    "\n",
    "# Ensure the lengths match\n",
    "min_length = min(len(stock_data), len(sentiments))\n",
    "stock_data = stock_data[:min_length]\n",
    "sentiments = sentiments[:min_length]\n",
    "\n",
    "# Create a DataFrame with the sentiment scores and stock prices\n",
    "df = pd.DataFrame({\n",
    "    'Date': stock_data.index,\n",
    "    'Close': stock_data['Close'],\n",
    "    'Sentiment': sentiments\n",
    "})\n",
    "\n",
    "# Display the DataFrame\n",
    "print(df)\n",
    "\n",
    "# Calculate the correlation between sentiment and stock price\n",
    "correlation = df['Sentiment'].corr(df['Close'])\n",
    "print(f'Correlation between sentiment and stock price: {correlation}')\n"
   ]
  },
  {
   "cell_type": "code",
   "execution_count": null,
   "id": "6351a03b-5793-48fe-a871-0a5c7deebb85",
   "metadata": {},
   "outputs": [],
   "source": []
  }
 ],
 "metadata": {
  "kernelspec": {
   "display_name": "Python 3 (ipykernel)",
   "language": "python",
   "name": "python3"
  },
  "language_info": {
   "codemirror_mode": {
    "name": "ipython",
    "version": 3
   },
   "file_extension": ".py",
   "mimetype": "text/x-python",
   "name": "python",
   "nbconvert_exporter": "python",
   "pygments_lexer": "ipython3",
   "version": "3.12.4"
  }
 },
 "nbformat": 4,
 "nbformat_minor": 5
}

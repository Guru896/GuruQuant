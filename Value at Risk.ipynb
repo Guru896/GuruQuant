{
 "cells": [
  {
   "cell_type": "code",
   "execution_count": 1,
   "id": "b2535fed-d003-45b5-8c3d-c42f152d413c",
   "metadata": {},
   "outputs": [
    {
     "name": "stdout",
     "output_type": "stream",
     "text": [
      "All libraries imported successfully!\n"
     ]
    }
   ],
   "source": [
    "import numpy as np\n",
    "import pandas as pd\n",
    "import yfinance as yf\n",
    "import matplotlib.pyplot as plt\n",
    "from scipy.stats import norm\n",
    "\n",
    "print(\"All libraries imported successfully!\")\n"
   ]
  },
  {
   "cell_type": "code",
   "execution_count": 2,
   "id": "7c1fd283-afb6-4e44-9497-766495eba130",
   "metadata": {},
   "outputs": [
    {
     "name": "stderr",
     "output_type": "stream",
     "text": [
      "[*********************100%***********************]  5 of 5 completed\n"
     ]
    },
    {
     "data": {
      "text/html": [
       "<div>\n",
       "<style scoped>\n",
       "    .dataframe tbody tr th:only-of-type {\n",
       "        vertical-align: middle;\n",
       "    }\n",
       "\n",
       "    .dataframe tbody tr th {\n",
       "        vertical-align: top;\n",
       "    }\n",
       "\n",
       "    .dataframe thead th {\n",
       "        text-align: right;\n",
       "    }\n",
       "</style>\n",
       "<table border=\"1\" class=\"dataframe\">\n",
       "  <thead>\n",
       "    <tr style=\"text-align: right;\">\n",
       "      <th>Ticker</th>\n",
       "      <th>AAPL</th>\n",
       "      <th>AMZN</th>\n",
       "      <th>GOOGL</th>\n",
       "      <th>MSFT</th>\n",
       "      <th>TSLA</th>\n",
       "    </tr>\n",
       "    <tr>\n",
       "      <th>Date</th>\n",
       "      <th></th>\n",
       "      <th></th>\n",
       "      <th></th>\n",
       "      <th></th>\n",
       "      <th></th>\n",
       "    </tr>\n",
       "  </thead>\n",
       "  <tbody>\n",
       "    <tr>\n",
       "      <th>2020-01-02 00:00:00+00:00</th>\n",
       "      <td>72.876106</td>\n",
       "      <td>94.900497</td>\n",
       "      <td>68.264961</td>\n",
       "      <td>153.938202</td>\n",
       "      <td>28.684000</td>\n",
       "    </tr>\n",
       "    <tr>\n",
       "      <th>2020-01-03 00:00:00+00:00</th>\n",
       "      <td>72.167618</td>\n",
       "      <td>93.748497</td>\n",
       "      <td>67.907852</td>\n",
       "      <td>152.021423</td>\n",
       "      <td>29.534000</td>\n",
       "    </tr>\n",
       "    <tr>\n",
       "      <th>2020-01-06 00:00:00+00:00</th>\n",
       "      <td>72.742668</td>\n",
       "      <td>95.143997</td>\n",
       "      <td>69.717865</td>\n",
       "      <td>152.414352</td>\n",
       "      <td>30.102667</td>\n",
       "    </tr>\n",
       "    <tr>\n",
       "      <th>2020-01-07 00:00:00+00:00</th>\n",
       "      <td>72.400536</td>\n",
       "      <td>95.343002</td>\n",
       "      <td>69.583206</td>\n",
       "      <td>151.024673</td>\n",
       "      <td>31.270666</td>\n",
       "    </tr>\n",
       "    <tr>\n",
       "      <th>2020-01-08 00:00:00+00:00</th>\n",
       "      <td>73.565193</td>\n",
       "      <td>94.598503</td>\n",
       "      <td>70.078476</td>\n",
       "      <td>153.430283</td>\n",
       "      <td>32.809334</td>\n",
       "    </tr>\n",
       "  </tbody>\n",
       "</table>\n",
       "</div>"
      ],
      "text/plain": [
       "Ticker                          AAPL       AMZN      GOOGL        MSFT  \\\n",
       "Date                                                                     \n",
       "2020-01-02 00:00:00+00:00  72.876106  94.900497  68.264961  153.938202   \n",
       "2020-01-03 00:00:00+00:00  72.167618  93.748497  67.907852  152.021423   \n",
       "2020-01-06 00:00:00+00:00  72.742668  95.143997  69.717865  152.414352   \n",
       "2020-01-07 00:00:00+00:00  72.400536  95.343002  69.583206  151.024673   \n",
       "2020-01-08 00:00:00+00:00  73.565193  94.598503  70.078476  153.430283   \n",
       "\n",
       "Ticker                          TSLA  \n",
       "Date                                  \n",
       "2020-01-02 00:00:00+00:00  28.684000  \n",
       "2020-01-03 00:00:00+00:00  29.534000  \n",
       "2020-01-06 00:00:00+00:00  30.102667  \n",
       "2020-01-07 00:00:00+00:00  31.270666  \n",
       "2020-01-08 00:00:00+00:00  32.809334  "
      ]
     },
     "execution_count": 2,
     "metadata": {},
     "output_type": "execute_result"
    }
   ],
   "source": [
    "tickers = ['AAPL', 'MSFT', 'GOOGL', 'AMZN', 'TSLA']\n",
    "start_date = '2020-01-01'\n",
    "end_date = '2023-01-01'\n",
    "\n",
    "data = yf.download(tickers, start=start_date, end=end_date)['Adj Close']\n",
    "data.head()\n"
   ]
  },
  {
   "cell_type": "code",
   "execution_count": 3,
   "id": "513e61cf-9d7e-48fc-ac29-54100f36a658",
   "metadata": {},
   "outputs": [
    {
     "data": {
      "text/html": [
       "<div>\n",
       "<style scoped>\n",
       "    .dataframe tbody tr th:only-of-type {\n",
       "        vertical-align: middle;\n",
       "    }\n",
       "\n",
       "    .dataframe tbody tr th {\n",
       "        vertical-align: top;\n",
       "    }\n",
       "\n",
       "    .dataframe thead th {\n",
       "        text-align: right;\n",
       "    }\n",
       "</style>\n",
       "<table border=\"1\" class=\"dataframe\">\n",
       "  <thead>\n",
       "    <tr style=\"text-align: right;\">\n",
       "      <th>Ticker</th>\n",
       "      <th>AAPL</th>\n",
       "      <th>AMZN</th>\n",
       "      <th>GOOGL</th>\n",
       "      <th>MSFT</th>\n",
       "      <th>TSLA</th>\n",
       "    </tr>\n",
       "    <tr>\n",
       "      <th>Date</th>\n",
       "      <th></th>\n",
       "      <th></th>\n",
       "      <th></th>\n",
       "      <th></th>\n",
       "      <th></th>\n",
       "    </tr>\n",
       "  </thead>\n",
       "  <tbody>\n",
       "    <tr>\n",
       "      <th>2020-01-03 00:00:00+00:00</th>\n",
       "      <td>-0.009722</td>\n",
       "      <td>-0.012139</td>\n",
       "      <td>-0.005231</td>\n",
       "      <td>-0.012452</td>\n",
       "      <td>0.029633</td>\n",
       "    </tr>\n",
       "    <tr>\n",
       "      <th>2020-01-06 00:00:00+00:00</th>\n",
       "      <td>0.007968</td>\n",
       "      <td>0.014886</td>\n",
       "      <td>0.026654</td>\n",
       "      <td>0.002585</td>\n",
       "      <td>0.019255</td>\n",
       "    </tr>\n",
       "    <tr>\n",
       "      <th>2020-01-07 00:00:00+00:00</th>\n",
       "      <td>-0.004703</td>\n",
       "      <td>0.002092</td>\n",
       "      <td>-0.001931</td>\n",
       "      <td>-0.009118</td>\n",
       "      <td>0.038801</td>\n",
       "    </tr>\n",
       "    <tr>\n",
       "      <th>2020-01-08 00:00:00+00:00</th>\n",
       "      <td>0.016086</td>\n",
       "      <td>-0.007809</td>\n",
       "      <td>0.007118</td>\n",
       "      <td>0.015929</td>\n",
       "      <td>0.049205</td>\n",
       "    </tr>\n",
       "    <tr>\n",
       "      <th>2020-01-09 00:00:00+00:00</th>\n",
       "      <td>0.021241</td>\n",
       "      <td>0.004799</td>\n",
       "      <td>0.010498</td>\n",
       "      <td>0.012493</td>\n",
       "      <td>-0.021945</td>\n",
       "    </tr>\n",
       "  </tbody>\n",
       "</table>\n",
       "</div>"
      ],
      "text/plain": [
       "Ticker                         AAPL      AMZN     GOOGL      MSFT      TSLA\n",
       "Date                                                                       \n",
       "2020-01-03 00:00:00+00:00 -0.009722 -0.012139 -0.005231 -0.012452  0.029633\n",
       "2020-01-06 00:00:00+00:00  0.007968  0.014886  0.026654  0.002585  0.019255\n",
       "2020-01-07 00:00:00+00:00 -0.004703  0.002092 -0.001931 -0.009118  0.038801\n",
       "2020-01-08 00:00:00+00:00  0.016086 -0.007809  0.007118  0.015929  0.049205\n",
       "2020-01-09 00:00:00+00:00  0.021241  0.004799  0.010498  0.012493 -0.021945"
      ]
     },
     "execution_count": 3,
     "metadata": {},
     "output_type": "execute_result"
    }
   ],
   "source": [
    "returns = data.pct_change().dropna()\n",
    "returns.head()\n"
   ]
  },
  {
   "cell_type": "code",
   "execution_count": 4,
   "id": "6cfd7a30-a5a1-41b0-a8cf-32bdd24b2a5e",
   "metadata": {},
   "outputs": [
    {
     "name": "stdout",
     "output_type": "stream",
     "text": [
      "Historical VaR at 95.0% confidence level: $37051.03\n"
     ]
    }
   ],
   "source": [
    "confidence_level = 0.95\n",
    "portfolio_value = 1000000  # Example portfolio value\n",
    "\n",
    "# Calculate portfolio returns\n",
    "portfolio_returns = returns.mean(axis=1)\n",
    "\n",
    "# Calculate VaR\n",
    "var_historical = np.percentile(portfolio_returns, (1 - confidence_level) * 100)\n",
    "var_historical_value = portfolio_value * var_historical\n",
    "\n",
    "print(f\"Historical VaR at {confidence_level*100}% confidence level: ${-var_historical_value:.2f}\")\n"
   ]
  },
  {
   "cell_type": "code",
   "execution_count": 5,
   "id": "e37078a7-e7fe-4bc7-9ea9-aeb278ad17a9",
   "metadata": {},
   "outputs": [
    {
     "name": "stdout",
     "output_type": "stream",
     "text": [
      "Parametric VaR at 95.0% confidence level: $38361.01\n"
     ]
    }
   ],
   "source": [
    "mean_return = portfolio_returns.mean()\n",
    "std_dev = portfolio_returns.std()\n",
    "\n",
    "var_parametric = norm.ppf(1 - confidence_level) * std_dev - mean_return\n",
    "var_parametric_value = portfolio_value * var_parametric\n",
    "\n",
    "print(f\"Parametric VaR at {confidence_level*100}% confidence level: ${-var_parametric_value:.2f}\")\n"
   ]
  },
  {
   "cell_type": "code",
   "execution_count": 6,
   "id": "92c8acba-aa16-4f73-894c-17daca18e0fb",
   "metadata": {},
   "outputs": [
    {
     "name": "stdout",
     "output_type": "stream",
     "text": [
      "Monte Carlo VaR at 95.0% confidence level: $317545.72\n"
     ]
    }
   ],
   "source": [
    "num_simulations = 10000\n",
    "simulation_days = 252\n",
    "\n",
    "simulated_returns = np.random.normal(mean_return, std_dev, (simulation_days, num_simulations))\n",
    "simulated_portfolio_values = portfolio_value * (1 + simulated_returns).cumprod(axis=0)\n",
    "\n",
    "# Calculate VaR\n",
    "var_monte_carlo = np.percentile(simulated_portfolio_values[-1], (1 - confidence_level) * 100)\n",
    "var_monte_carlo_value = portfolio_value - var_monte_carlo\n",
    "\n",
    "print(f\"Monte Carlo VaR at {confidence_level*100}% confidence level: ${var_monte_carlo_value:.2f}\")\n"
   ]
  },
  {
   "cell_type": "code",
   "execution_count": 7,
   "id": "1a4118b2-d46e-4542-b126-4da253993bd3",
   "metadata": {},
   "outputs": [
    {
     "name": "stdout",
     "output_type": "stream",
     "text": [
      "Number of exceedances for Historical VaR: 719\n"
     ]
    }
   ],
   "source": [
    "# Calculate actual losses\n",
    "actual_losses = portfolio_returns * portfolio_value\n",
    "\n",
    "# Check if actual losses exceed VaR\n",
    "exceedances = actual_losses < -var_historical_value\n",
    "num_exceedances = exceedances.sum()\n",
    "\n",
    "print(f\"Number of exceedances for Historical VaR: {num_exceedances}\")\n"
   ]
  },
  {
   "cell_type": "code",
   "execution_count": 8,
   "id": "749a89e5-6a30-4e72-8791-df0b9cf9f5a8",
   "metadata": {},
   "outputs": [
    {
     "name": "stdout",
     "output_type": "stream",
     "text": [
      "Number of exceedances for Parametric VaR: 724\n"
     ]
    }
   ],
   "source": [
    "exceedances_parametric = actual_losses < -var_parametric_value\n",
    "num_exceedances_parametric = exceedances_parametric.sum()\n",
    "\n",
    "print(f\"Number of exceedances for Parametric VaR: {num_exceedances_parametric}\")\n"
   ]
  },
  {
   "cell_type": "code",
   "execution_count": 9,
   "id": "a337a680-3fd3-485f-b5ed-c83cac6cf913",
   "metadata": {},
   "outputs": [
    {
     "name": "stdout",
     "output_type": "stream",
     "text": [
      "Number of exceedances for Monte Carlo VaR: 0\n"
     ]
    }
   ],
   "source": [
    "exceedances_monte_carlo = actual_losses < -var_monte_carlo_value\n",
    "num_exceedances_monte_carlo = exceedances_monte_carlo.sum()\n",
    "\n",
    "print(f\"Number of exceedances for Monte Carlo VaR: {num_exceedances_monte_carlo}\")\n"
   ]
  },
  {
   "cell_type": "code",
   "execution_count": 10,
   "id": "1ddc4c2b-1ca0-45a8-ac81-54de72333dce",
   "metadata": {},
   "outputs": [
    {
     "name": "stdout",
     "output_type": "stream",
     "text": [
      "Historical VaR: $37051.03\n",
      "Parametric VaR: $38361.01\n",
      "Monte Carlo VaR: $317545.72\n",
      "Exceedances (Historical): 719\n",
      "Exceedances (Parametric): 724\n",
      "Exceedances (Monte Carlo): 0\n"
     ]
    }
   ],
   "source": [
    "print(f\"Historical VaR: ${-var_historical_value:.2f}\")\n",
    "print(f\"Parametric VaR: ${-var_parametric_value:.2f}\")\n",
    "print(f\"Monte Carlo VaR: ${var_monte_carlo_value:.2f}\")\n",
    "\n",
    "print(f\"Exceedances (Historical): {num_exceedances}\")\n",
    "print(f\"Exceedances (Parametric): {num_exceedances_parametric}\")\n",
    "print(f\"Exceedances (Monte Carlo): {num_exceedances_monte_carlo}\")\n"
   ]
  },
  {
   "cell_type": "code",
   "execution_count": null,
   "id": "b8980fda-e769-40cc-8fc7-81b94a0a79f4",
   "metadata": {},
   "outputs": [],
   "source": []
  }
 ],
 "metadata": {
  "kernelspec": {
   "display_name": "Python 3 (ipykernel)",
   "language": "python",
   "name": "python3"
  },
  "language_info": {
   "codemirror_mode": {
    "name": "ipython",
    "version": 3
   },
   "file_extension": ".py",
   "mimetype": "text/x-python",
   "name": "python",
   "nbconvert_exporter": "python",
   "pygments_lexer": "ipython3",
   "version": "3.12.3"
  }
 },
 "nbformat": 4,
 "nbformat_minor": 5
}
